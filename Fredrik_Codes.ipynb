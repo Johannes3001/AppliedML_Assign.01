{
 "cells": [
  {
   "cell_type": "markdown",
   "metadata": {},
   "source": [
    "### Codes from: https://www.kaggle.com/code/manoharsrinivas/reducing-telecom-churn-with-pca-and-modeling"
   ]
  },
  {
   "cell_type": "markdown",
   "metadata": {},
   "source": [
    "#### Data Preprocessing "
   ]
  },
  {
   "cell_type": "code",
   "execution_count": 89,
   "metadata": {},
   "outputs": [],
   "source": [
    "# Importing modules \n",
    "import numpy as np\n",
    "import pandas as pd\n",
    "import matplotlib.pyplot as plt\n",
    "import seaborn as sns\n",
    "from sklearn.linear_model import LogisticRegression\n",
    "from sklearn.preprocessing import StandardScaler, OneHotEncoder\n",
    "from sklearn.compose import ColumnTransformer\n",
    "from sklearn.pipeline import Pipeline\n",
    "from sklearn.metrics import accuracy_score, classification_report, confusion_matrix\n",
    "from sklearn.preprocessing import StandardScaler, OneHotEncoder\n",
    "from sklearn.compose import ColumnTransformer\n",
    "from sklearn.pipeline import Pipeline\n",
    "from sklearn.decomposition import PCA"
   ]
  },
  {
   "cell_type": "code",
   "execution_count": 90,
   "metadata": {},
   "outputs": [],
   "source": [
    "#importing datasets\n",
    "train_df = pd.read_csv(\"customer_churn_dataset-training-master.csv\")\n",
    "test_df = pd.read_csv(\"customer_churn_dataset-testing-master.csv\")\n",
    "\n",
    "# Combinding the datasets \n",
    "df = pd.concat([train_df, test_df])"
   ]
  },
  {
   "cell_type": "code",
   "execution_count": 91,
   "metadata": {},
   "outputs": [
    {
     "data": {
      "text/html": [
       "<div>\n",
       "<style scoped>\n",
       "    .dataframe tbody tr th:only-of-type {\n",
       "        vertical-align: middle;\n",
       "    }\n",
       "\n",
       "    .dataframe tbody tr th {\n",
       "        vertical-align: top;\n",
       "    }\n",
       "\n",
       "    .dataframe thead th {\n",
       "        text-align: right;\n",
       "    }\n",
       "</style>\n",
       "<table border=\"1\" class=\"dataframe\">\n",
       "  <thead>\n",
       "    <tr style=\"text-align: right;\">\n",
       "      <th></th>\n",
       "      <th>CustomerID</th>\n",
       "      <th>Age</th>\n",
       "      <th>Tenure</th>\n",
       "      <th>Usage Frequency</th>\n",
       "      <th>Support Calls</th>\n",
       "      <th>Payment Delay</th>\n",
       "      <th>Total Spend</th>\n",
       "      <th>Last Interaction</th>\n",
       "      <th>Churn</th>\n",
       "    </tr>\n",
       "  </thead>\n",
       "  <tbody>\n",
       "    <tr>\n",
       "      <th>count</th>\n",
       "      <td>505206.000000</td>\n",
       "      <td>505206.000000</td>\n",
       "      <td>505206.000000</td>\n",
       "      <td>505206.000000</td>\n",
       "      <td>505206.000000</td>\n",
       "      <td>505206.000000</td>\n",
       "      <td>505206.000000</td>\n",
       "      <td>505206.000000</td>\n",
       "      <td>505206.000000</td>\n",
       "    </tr>\n",
       "    <tr>\n",
       "      <th>mean</th>\n",
       "      <td>200779.451782</td>\n",
       "      <td>39.704172</td>\n",
       "      <td>31.350435</td>\n",
       "      <td>15.714825</td>\n",
       "      <td>3.833317</td>\n",
       "      <td>13.496843</td>\n",
       "      <td>620.072766</td>\n",
       "      <td>14.610581</td>\n",
       "      <td>0.555203</td>\n",
       "    </tr>\n",
       "    <tr>\n",
       "      <th>std</th>\n",
       "      <td>137241.343095</td>\n",
       "      <td>12.670577</td>\n",
       "      <td>17.237482</td>\n",
       "      <td>8.619323</td>\n",
       "      <td>3.133603</td>\n",
       "      <td>8.451187</td>\n",
       "      <td>245.319256</td>\n",
       "      <td>8.608286</td>\n",
       "      <td>0.496944</td>\n",
       "    </tr>\n",
       "    <tr>\n",
       "      <th>min</th>\n",
       "      <td>1.000000</td>\n",
       "      <td>18.000000</td>\n",
       "      <td>1.000000</td>\n",
       "      <td>1.000000</td>\n",
       "      <td>0.000000</td>\n",
       "      <td>0.000000</td>\n",
       "      <td>100.000000</td>\n",
       "      <td>1.000000</td>\n",
       "      <td>0.000000</td>\n",
       "    </tr>\n",
       "    <tr>\n",
       "      <th>25%</th>\n",
       "      <td>63827.250000</td>\n",
       "      <td>29.000000</td>\n",
       "      <td>16.000000</td>\n",
       "      <td>8.000000</td>\n",
       "      <td>1.000000</td>\n",
       "      <td>6.000000</td>\n",
       "      <td>446.000000</td>\n",
       "      <td>7.000000</td>\n",
       "      <td>0.000000</td>\n",
       "    </tr>\n",
       "    <tr>\n",
       "      <th>50%</th>\n",
       "      <td>193039.500000</td>\n",
       "      <td>40.000000</td>\n",
       "      <td>32.000000</td>\n",
       "      <td>16.000000</td>\n",
       "      <td>3.000000</td>\n",
       "      <td>13.000000</td>\n",
       "      <td>648.900000</td>\n",
       "      <td>14.000000</td>\n",
       "      <td>1.000000</td>\n",
       "    </tr>\n",
       "    <tr>\n",
       "      <th>75%</th>\n",
       "      <td>321645.750000</td>\n",
       "      <td>49.000000</td>\n",
       "      <td>46.000000</td>\n",
       "      <td>23.000000</td>\n",
       "      <td>6.000000</td>\n",
       "      <td>20.000000</td>\n",
       "      <td>824.000000</td>\n",
       "      <td>22.000000</td>\n",
       "      <td>1.000000</td>\n",
       "    </tr>\n",
       "    <tr>\n",
       "      <th>max</th>\n",
       "      <td>449999.000000</td>\n",
       "      <td>65.000000</td>\n",
       "      <td>60.000000</td>\n",
       "      <td>30.000000</td>\n",
       "      <td>10.000000</td>\n",
       "      <td>30.000000</td>\n",
       "      <td>1000.000000</td>\n",
       "      <td>30.000000</td>\n",
       "      <td>1.000000</td>\n",
       "    </tr>\n",
       "  </tbody>\n",
       "</table>\n",
       "</div>"
      ],
      "text/plain": [
       "          CustomerID            Age         Tenure  Usage Frequency  \\\n",
       "count  505206.000000  505206.000000  505206.000000    505206.000000   \n",
       "mean   200779.451782      39.704172      31.350435        15.714825   \n",
       "std    137241.343095      12.670577      17.237482         8.619323   \n",
       "min         1.000000      18.000000       1.000000         1.000000   \n",
       "25%     63827.250000      29.000000      16.000000         8.000000   \n",
       "50%    193039.500000      40.000000      32.000000        16.000000   \n",
       "75%    321645.750000      49.000000      46.000000        23.000000   \n",
       "max    449999.000000      65.000000      60.000000        30.000000   \n",
       "\n",
       "       Support Calls  Payment Delay    Total Spend  Last Interaction  \\\n",
       "count  505206.000000  505206.000000  505206.000000     505206.000000   \n",
       "mean        3.833317      13.496843     620.072766         14.610581   \n",
       "std         3.133603       8.451187     245.319256          8.608286   \n",
       "min         0.000000       0.000000     100.000000          1.000000   \n",
       "25%         1.000000       6.000000     446.000000          7.000000   \n",
       "50%         3.000000      13.000000     648.900000         14.000000   \n",
       "75%         6.000000      20.000000     824.000000         22.000000   \n",
       "max        10.000000      30.000000    1000.000000         30.000000   \n",
       "\n",
       "               Churn  \n",
       "count  505206.000000  \n",
       "mean        0.555203  \n",
       "std         0.496944  \n",
       "min         0.000000  \n",
       "25%         0.000000  \n",
       "50%         1.000000  \n",
       "75%         1.000000  \n",
       "max         1.000000  "
      ]
     },
     "execution_count": 91,
     "metadata": {},
     "output_type": "execute_result"
    }
   ],
   "source": [
    "# Inspecting the data\n",
    "df.describe()"
   ]
  },
  {
   "cell_type": "code",
   "execution_count": 92,
   "metadata": {},
   "outputs": [
    {
     "name": "stdout",
     "output_type": "stream",
     "text": [
      "<class 'pandas.core.frame.DataFrame'>\n",
      "Int64Index: 505207 entries, 0 to 64373\n",
      "Data columns (total 12 columns):\n",
      " #   Column             Non-Null Count   Dtype  \n",
      "---  ------             --------------   -----  \n",
      " 0   CustomerID         505206 non-null  float64\n",
      " 1   Age                505206 non-null  float64\n",
      " 2   Gender             505206 non-null  object \n",
      " 3   Tenure             505206 non-null  float64\n",
      " 4   Usage Frequency    505206 non-null  float64\n",
      " 5   Support Calls      505206 non-null  float64\n",
      " 6   Payment Delay      505206 non-null  float64\n",
      " 7   Subscription Type  505206 non-null  object \n",
      " 8   Contract Length    505206 non-null  object \n",
      " 9   Total Spend        505206 non-null  float64\n",
      " 10  Last Interaction   505206 non-null  float64\n",
      " 11  Churn              505206 non-null  float64\n",
      "dtypes: float64(9), object(3)\n",
      "memory usage: 50.1+ MB\n"
     ]
    }
   ],
   "source": [
    "# Checking what kind of variables we have \n",
    "df.info()"
   ]
  },
  {
   "cell_type": "code",
   "execution_count": 93,
   "metadata": {},
   "outputs": [
    {
     "data": {
      "text/plain": [
       "CustomerID           1\n",
       "Age                  1\n",
       "Gender               1\n",
       "Tenure               1\n",
       "Usage Frequency      1\n",
       "Support Calls        1\n",
       "Payment Delay        1\n",
       "Subscription Type    1\n",
       "Contract Length      1\n",
       "Total Spend          1\n",
       "Last Interaction     1\n",
       "Churn                1\n",
       "dtype: int64"
      ]
     },
     "execution_count": 93,
     "metadata": {},
     "output_type": "execute_result"
    }
   ],
   "source": [
    "# Checking for missing values \n",
    "df.isna().sum()"
   ]
  },
  {
   "cell_type": "code",
   "execution_count": 94,
   "metadata": {},
   "outputs": [],
   "source": [
    "# Handling missing values \n",
    "df.dropna(inplace=True)"
   ]
  },
  {
   "cell_type": "code",
   "execution_count": 95,
   "metadata": {},
   "outputs": [
    {
     "data": {
      "text/html": [
       "<div>\n",
       "<style scoped>\n",
       "    .dataframe tbody tr th:only-of-type {\n",
       "        vertical-align: middle;\n",
       "    }\n",
       "\n",
       "    .dataframe tbody tr th {\n",
       "        vertical-align: top;\n",
       "    }\n",
       "\n",
       "    .dataframe thead th {\n",
       "        text-align: right;\n",
       "    }\n",
       "</style>\n",
       "<table border=\"1\" class=\"dataframe\">\n",
       "  <thead>\n",
       "    <tr style=\"text-align: right;\">\n",
       "      <th></th>\n",
       "      <th>CustomerID</th>\n",
       "      <th>Age</th>\n",
       "      <th>Tenure</th>\n",
       "      <th>Usage Frequency</th>\n",
       "      <th>Support Calls</th>\n",
       "      <th>Payment Delay</th>\n",
       "      <th>Total Spend</th>\n",
       "      <th>Last Interaction</th>\n",
       "      <th>Churn</th>\n",
       "    </tr>\n",
       "  </thead>\n",
       "  <tbody>\n",
       "    <tr>\n",
       "      <th>count</th>\n",
       "      <td>505206.000000</td>\n",
       "      <td>505206.000000</td>\n",
       "      <td>505206.000000</td>\n",
       "      <td>505206.000000</td>\n",
       "      <td>505206.000000</td>\n",
       "      <td>505206.000000</td>\n",
       "      <td>505206.000000</td>\n",
       "      <td>505206.000000</td>\n",
       "      <td>505206.000000</td>\n",
       "    </tr>\n",
       "    <tr>\n",
       "      <th>mean</th>\n",
       "      <td>200779.451782</td>\n",
       "      <td>39.704172</td>\n",
       "      <td>31.350435</td>\n",
       "      <td>15.714825</td>\n",
       "      <td>3.833317</td>\n",
       "      <td>13.496843</td>\n",
       "      <td>620.072766</td>\n",
       "      <td>14.610581</td>\n",
       "      <td>0.555203</td>\n",
       "    </tr>\n",
       "    <tr>\n",
       "      <th>std</th>\n",
       "      <td>137241.343095</td>\n",
       "      <td>12.670577</td>\n",
       "      <td>17.237482</td>\n",
       "      <td>8.619323</td>\n",
       "      <td>3.133603</td>\n",
       "      <td>8.451187</td>\n",
       "      <td>245.319256</td>\n",
       "      <td>8.608286</td>\n",
       "      <td>0.496944</td>\n",
       "    </tr>\n",
       "    <tr>\n",
       "      <th>min</th>\n",
       "      <td>1.000000</td>\n",
       "      <td>18.000000</td>\n",
       "      <td>1.000000</td>\n",
       "      <td>1.000000</td>\n",
       "      <td>0.000000</td>\n",
       "      <td>0.000000</td>\n",
       "      <td>100.000000</td>\n",
       "      <td>1.000000</td>\n",
       "      <td>0.000000</td>\n",
       "    </tr>\n",
       "    <tr>\n",
       "      <th>25%</th>\n",
       "      <td>63827.250000</td>\n",
       "      <td>29.000000</td>\n",
       "      <td>16.000000</td>\n",
       "      <td>8.000000</td>\n",
       "      <td>1.000000</td>\n",
       "      <td>6.000000</td>\n",
       "      <td>446.000000</td>\n",
       "      <td>7.000000</td>\n",
       "      <td>0.000000</td>\n",
       "    </tr>\n",
       "    <tr>\n",
       "      <th>50%</th>\n",
       "      <td>193039.500000</td>\n",
       "      <td>40.000000</td>\n",
       "      <td>32.000000</td>\n",
       "      <td>16.000000</td>\n",
       "      <td>3.000000</td>\n",
       "      <td>13.000000</td>\n",
       "      <td>648.900000</td>\n",
       "      <td>14.000000</td>\n",
       "      <td>1.000000</td>\n",
       "    </tr>\n",
       "    <tr>\n",
       "      <th>75%</th>\n",
       "      <td>321645.750000</td>\n",
       "      <td>49.000000</td>\n",
       "      <td>46.000000</td>\n",
       "      <td>23.000000</td>\n",
       "      <td>6.000000</td>\n",
       "      <td>20.000000</td>\n",
       "      <td>824.000000</td>\n",
       "      <td>22.000000</td>\n",
       "      <td>1.000000</td>\n",
       "    </tr>\n",
       "    <tr>\n",
       "      <th>max</th>\n",
       "      <td>449999.000000</td>\n",
       "      <td>65.000000</td>\n",
       "      <td>60.000000</td>\n",
       "      <td>30.000000</td>\n",
       "      <td>10.000000</td>\n",
       "      <td>30.000000</td>\n",
       "      <td>1000.000000</td>\n",
       "      <td>30.000000</td>\n",
       "      <td>1.000000</td>\n",
       "    </tr>\n",
       "  </tbody>\n",
       "</table>\n",
       "</div>"
      ],
      "text/plain": [
       "          CustomerID            Age         Tenure  Usage Frequency  \\\n",
       "count  505206.000000  505206.000000  505206.000000    505206.000000   \n",
       "mean   200779.451782      39.704172      31.350435        15.714825   \n",
       "std    137241.343095      12.670577      17.237482         8.619323   \n",
       "min         1.000000      18.000000       1.000000         1.000000   \n",
       "25%     63827.250000      29.000000      16.000000         8.000000   \n",
       "50%    193039.500000      40.000000      32.000000        16.000000   \n",
       "75%    321645.750000      49.000000      46.000000        23.000000   \n",
       "max    449999.000000      65.000000      60.000000        30.000000   \n",
       "\n",
       "       Support Calls  Payment Delay    Total Spend  Last Interaction  \\\n",
       "count  505206.000000  505206.000000  505206.000000     505206.000000   \n",
       "mean        3.833317      13.496843     620.072766         14.610581   \n",
       "std         3.133603       8.451187     245.319256          8.608286   \n",
       "min         0.000000       0.000000     100.000000          1.000000   \n",
       "25%         1.000000       6.000000     446.000000          7.000000   \n",
       "50%         3.000000      13.000000     648.900000         14.000000   \n",
       "75%         6.000000      20.000000     824.000000         22.000000   \n",
       "max        10.000000      30.000000    1000.000000         30.000000   \n",
       "\n",
       "               Churn  \n",
       "count  505206.000000  \n",
       "mean        0.555203  \n",
       "std         0.496944  \n",
       "min         0.000000  \n",
       "25%         0.000000  \n",
       "50%         1.000000  \n",
       "75%         1.000000  \n",
       "max         1.000000  "
      ]
     },
     "execution_count": 95,
     "metadata": {},
     "output_type": "execute_result"
    }
   ],
   "source": [
    "# Checking for outliers \n",
    "df.describe()\n",
    "\n",
    "# we are checking on 25% - 50% - 75% - 100%. We are seeing a steady increase in all values for the numerical variables\n",
    "# This is a clear indication that there are no outliers wihtin our data "
   ]
  },
  {
   "cell_type": "code",
   "execution_count": 96,
   "metadata": {},
   "outputs": [],
   "source": [
    "# Dropping 'CustomerID'\n",
    "# This variable does not yield any importance for our purpose\n",
    "df.drop(columns='CustomerID', inplace=True)"
   ]
  },
  {
   "cell_type": "code",
   "execution_count": 97,
   "metadata": {},
   "outputs": [
    {
     "data": {
      "text/html": [
       "<div>\n",
       "<style scoped>\n",
       "    .dataframe tbody tr th:only-of-type {\n",
       "        vertical-align: middle;\n",
       "    }\n",
       "\n",
       "    .dataframe tbody tr th {\n",
       "        vertical-align: top;\n",
       "    }\n",
       "\n",
       "    .dataframe thead th {\n",
       "        text-align: right;\n",
       "    }\n",
       "</style>\n",
       "<table border=\"1\" class=\"dataframe\">\n",
       "  <thead>\n",
       "    <tr style=\"text-align: right;\">\n",
       "      <th></th>\n",
       "      <th>Age</th>\n",
       "      <th>Gender</th>\n",
       "      <th>Tenure</th>\n",
       "      <th>Usage Frequency</th>\n",
       "      <th>Support Calls</th>\n",
       "      <th>Payment Delay</th>\n",
       "      <th>Subscription Type</th>\n",
       "      <th>Contract Length</th>\n",
       "      <th>Total Spend</th>\n",
       "      <th>Last Interaction</th>\n",
       "      <th>Churn</th>\n",
       "    </tr>\n",
       "  </thead>\n",
       "  <tbody>\n",
       "    <tr>\n",
       "      <th>0</th>\n",
       "      <td>30.0</td>\n",
       "      <td>Female</td>\n",
       "      <td>39.0</td>\n",
       "      <td>14.0</td>\n",
       "      <td>5.0</td>\n",
       "      <td>18.0</td>\n",
       "      <td>Standard</td>\n",
       "      <td>Annual</td>\n",
       "      <td>932.0</td>\n",
       "      <td>17.0</td>\n",
       "      <td>1.0</td>\n",
       "    </tr>\n",
       "    <tr>\n",
       "      <th>1</th>\n",
       "      <td>65.0</td>\n",
       "      <td>Female</td>\n",
       "      <td>49.0</td>\n",
       "      <td>1.0</td>\n",
       "      <td>10.0</td>\n",
       "      <td>8.0</td>\n",
       "      <td>Basic</td>\n",
       "      <td>Monthly</td>\n",
       "      <td>557.0</td>\n",
       "      <td>6.0</td>\n",
       "      <td>1.0</td>\n",
       "    </tr>\n",
       "    <tr>\n",
       "      <th>2</th>\n",
       "      <td>55.0</td>\n",
       "      <td>Female</td>\n",
       "      <td>14.0</td>\n",
       "      <td>4.0</td>\n",
       "      <td>6.0</td>\n",
       "      <td>18.0</td>\n",
       "      <td>Basic</td>\n",
       "      <td>Quarterly</td>\n",
       "      <td>185.0</td>\n",
       "      <td>3.0</td>\n",
       "      <td>1.0</td>\n",
       "    </tr>\n",
       "    <tr>\n",
       "      <th>3</th>\n",
       "      <td>58.0</td>\n",
       "      <td>Male</td>\n",
       "      <td>38.0</td>\n",
       "      <td>21.0</td>\n",
       "      <td>7.0</td>\n",
       "      <td>7.0</td>\n",
       "      <td>Standard</td>\n",
       "      <td>Monthly</td>\n",
       "      <td>396.0</td>\n",
       "      <td>29.0</td>\n",
       "      <td>1.0</td>\n",
       "    </tr>\n",
       "    <tr>\n",
       "      <th>4</th>\n",
       "      <td>23.0</td>\n",
       "      <td>Male</td>\n",
       "      <td>32.0</td>\n",
       "      <td>20.0</td>\n",
       "      <td>5.0</td>\n",
       "      <td>8.0</td>\n",
       "      <td>Basic</td>\n",
       "      <td>Monthly</td>\n",
       "      <td>617.0</td>\n",
       "      <td>20.0</td>\n",
       "      <td>1.0</td>\n",
       "    </tr>\n",
       "  </tbody>\n",
       "</table>\n",
       "</div>"
      ],
      "text/plain": [
       "    Age  Gender  Tenure  Usage Frequency  Support Calls  Payment Delay  \\\n",
       "0  30.0  Female    39.0             14.0            5.0           18.0   \n",
       "1  65.0  Female    49.0              1.0           10.0            8.0   \n",
       "2  55.0  Female    14.0              4.0            6.0           18.0   \n",
       "3  58.0    Male    38.0             21.0            7.0            7.0   \n",
       "4  23.0    Male    32.0             20.0            5.0            8.0   \n",
       "\n",
       "  Subscription Type Contract Length  Total Spend  Last Interaction  Churn  \n",
       "0          Standard          Annual        932.0              17.0    1.0  \n",
       "1             Basic         Monthly        557.0               6.0    1.0  \n",
       "2             Basic       Quarterly        185.0               3.0    1.0  \n",
       "3          Standard         Monthly        396.0              29.0    1.0  \n",
       "4             Basic         Monthly        617.0              20.0    1.0  "
      ]
     },
     "execution_count": 97,
     "metadata": {},
     "output_type": "execute_result"
    }
   ],
   "source": [
    "df.head()"
   ]
  },
  {
   "cell_type": "code",
   "execution_count": 47,
   "metadata": {},
   "outputs": [],
   "source": [
    "# Creating dummy variables for the categorical variables\n",
    "df = pd.get_dummies(df, columns=['Subscription Type'], prefix='Subscription Type')\n",
    "df = pd.get_dummies(df, columns=['Gender'], prefix='Gender')\n",
    "df = pd.get_dummies(df, columns=['Contract Length'], prefix='Contract Length')"
   ]
  },
  {
   "cell_type": "code",
   "execution_count": 48,
   "metadata": {},
   "outputs": [
    {
     "data": {
      "text/html": [
       "<div>\n",
       "<style scoped>\n",
       "    .dataframe tbody tr th:only-of-type {\n",
       "        vertical-align: middle;\n",
       "    }\n",
       "\n",
       "    .dataframe tbody tr th {\n",
       "        vertical-align: top;\n",
       "    }\n",
       "\n",
       "    .dataframe thead th {\n",
       "        text-align: right;\n",
       "    }\n",
       "</style>\n",
       "<table border=\"1\" class=\"dataframe\">\n",
       "  <thead>\n",
       "    <tr style=\"text-align: right;\">\n",
       "      <th></th>\n",
       "      <th>Age</th>\n",
       "      <th>Tenure</th>\n",
       "      <th>Usage Frequency</th>\n",
       "      <th>Support Calls</th>\n",
       "      <th>Payment Delay</th>\n",
       "      <th>Total Spend</th>\n",
       "      <th>Last Interaction</th>\n",
       "      <th>Churn</th>\n",
       "      <th>Subscription Type_Basic</th>\n",
       "      <th>Subscription Type_Premium</th>\n",
       "      <th>Subscription Type_Standard</th>\n",
       "      <th>Gender_Female</th>\n",
       "      <th>Gender_Male</th>\n",
       "      <th>Contract Length_Annual</th>\n",
       "      <th>Contract Length_Monthly</th>\n",
       "      <th>Contract Length_Quarterly</th>\n",
       "    </tr>\n",
       "  </thead>\n",
       "  <tbody>\n",
       "    <tr>\n",
       "      <th>0</th>\n",
       "      <td>30.0</td>\n",
       "      <td>39.0</td>\n",
       "      <td>14.0</td>\n",
       "      <td>5.0</td>\n",
       "      <td>18.0</td>\n",
       "      <td>932.0</td>\n",
       "      <td>17.0</td>\n",
       "      <td>1.0</td>\n",
       "      <td>0</td>\n",
       "      <td>0</td>\n",
       "      <td>1</td>\n",
       "      <td>1</td>\n",
       "      <td>0</td>\n",
       "      <td>1</td>\n",
       "      <td>0</td>\n",
       "      <td>0</td>\n",
       "    </tr>\n",
       "    <tr>\n",
       "      <th>1</th>\n",
       "      <td>65.0</td>\n",
       "      <td>49.0</td>\n",
       "      <td>1.0</td>\n",
       "      <td>10.0</td>\n",
       "      <td>8.0</td>\n",
       "      <td>557.0</td>\n",
       "      <td>6.0</td>\n",
       "      <td>1.0</td>\n",
       "      <td>1</td>\n",
       "      <td>0</td>\n",
       "      <td>0</td>\n",
       "      <td>1</td>\n",
       "      <td>0</td>\n",
       "      <td>0</td>\n",
       "      <td>1</td>\n",
       "      <td>0</td>\n",
       "    </tr>\n",
       "    <tr>\n",
       "      <th>2</th>\n",
       "      <td>55.0</td>\n",
       "      <td>14.0</td>\n",
       "      <td>4.0</td>\n",
       "      <td>6.0</td>\n",
       "      <td>18.0</td>\n",
       "      <td>185.0</td>\n",
       "      <td>3.0</td>\n",
       "      <td>1.0</td>\n",
       "      <td>1</td>\n",
       "      <td>0</td>\n",
       "      <td>0</td>\n",
       "      <td>1</td>\n",
       "      <td>0</td>\n",
       "      <td>0</td>\n",
       "      <td>0</td>\n",
       "      <td>1</td>\n",
       "    </tr>\n",
       "    <tr>\n",
       "      <th>3</th>\n",
       "      <td>58.0</td>\n",
       "      <td>38.0</td>\n",
       "      <td>21.0</td>\n",
       "      <td>7.0</td>\n",
       "      <td>7.0</td>\n",
       "      <td>396.0</td>\n",
       "      <td>29.0</td>\n",
       "      <td>1.0</td>\n",
       "      <td>0</td>\n",
       "      <td>0</td>\n",
       "      <td>1</td>\n",
       "      <td>0</td>\n",
       "      <td>1</td>\n",
       "      <td>0</td>\n",
       "      <td>1</td>\n",
       "      <td>0</td>\n",
       "    </tr>\n",
       "    <tr>\n",
       "      <th>4</th>\n",
       "      <td>23.0</td>\n",
       "      <td>32.0</td>\n",
       "      <td>20.0</td>\n",
       "      <td>5.0</td>\n",
       "      <td>8.0</td>\n",
       "      <td>617.0</td>\n",
       "      <td>20.0</td>\n",
       "      <td>1.0</td>\n",
       "      <td>1</td>\n",
       "      <td>0</td>\n",
       "      <td>0</td>\n",
       "      <td>0</td>\n",
       "      <td>1</td>\n",
       "      <td>0</td>\n",
       "      <td>1</td>\n",
       "      <td>0</td>\n",
       "    </tr>\n",
       "  </tbody>\n",
       "</table>\n",
       "</div>"
      ],
      "text/plain": [
       "    Age  Tenure  Usage Frequency  Support Calls  Payment Delay  Total Spend  \\\n",
       "0  30.0    39.0             14.0            5.0           18.0        932.0   \n",
       "1  65.0    49.0              1.0           10.0            8.0        557.0   \n",
       "2  55.0    14.0              4.0            6.0           18.0        185.0   \n",
       "3  58.0    38.0             21.0            7.0            7.0        396.0   \n",
       "4  23.0    32.0             20.0            5.0            8.0        617.0   \n",
       "\n",
       "   Last Interaction  Churn  Subscription Type_Basic  \\\n",
       "0              17.0    1.0                        0   \n",
       "1               6.0    1.0                        1   \n",
       "2               3.0    1.0                        1   \n",
       "3              29.0    1.0                        0   \n",
       "4              20.0    1.0                        1   \n",
       "\n",
       "   Subscription Type_Premium  Subscription Type_Standard  Gender_Female  \\\n",
       "0                          0                           1              1   \n",
       "1                          0                           0              1   \n",
       "2                          0                           0              1   \n",
       "3                          0                           1              0   \n",
       "4                          0                           0              0   \n",
       "\n",
       "   Gender_Male  Contract Length_Annual  Contract Length_Monthly  \\\n",
       "0            0                       1                        0   \n",
       "1            0                       0                        1   \n",
       "2            0                       0                        0   \n",
       "3            1                       0                        1   \n",
       "4            1                       0                        1   \n",
       "\n",
       "   Contract Length_Quarterly  \n",
       "0                          0  \n",
       "1                          0  \n",
       "2                          1  \n",
       "3                          0  \n",
       "4                          0  "
      ]
     },
     "execution_count": 48,
     "metadata": {},
     "output_type": "execute_result"
    }
   ],
   "source": [
    "df.head()"
   ]
  },
  {
   "cell_type": "code",
   "execution_count": 49,
   "metadata": {},
   "outputs": [],
   "source": [
    "# Normalizing the numerical variables\n",
    "norm = df[['Age', 'Tenure', 'Usage Frequency', 'Support Calls', 'Payment Delay', 'Total Spend', 'Last Interaction']]\n",
    "normalized = (norm - norm.mean())/norm.std()\n",
    "df.drop(columns=['Age', 'Tenure', 'Usage Frequency', 'Support Calls', 'Payment Delay', 'Total Spend', 'Last Interaction'], inplace=True)\n",
    "df = pd.concat([df, normalized], axis=1)"
   ]
  },
  {
   "cell_type": "code",
   "execution_count": 50,
   "metadata": {},
   "outputs": [
    {
     "data": {
      "text/html": [
       "<div>\n",
       "<style scoped>\n",
       "    .dataframe tbody tr th:only-of-type {\n",
       "        vertical-align: middle;\n",
       "    }\n",
       "\n",
       "    .dataframe tbody tr th {\n",
       "        vertical-align: top;\n",
       "    }\n",
       "\n",
       "    .dataframe thead th {\n",
       "        text-align: right;\n",
       "    }\n",
       "</style>\n",
       "<table border=\"1\" class=\"dataframe\">\n",
       "  <thead>\n",
       "    <tr style=\"text-align: right;\">\n",
       "      <th></th>\n",
       "      <th>Churn</th>\n",
       "      <th>Subscription Type_Basic</th>\n",
       "      <th>Subscription Type_Premium</th>\n",
       "      <th>Subscription Type_Standard</th>\n",
       "      <th>Gender_Female</th>\n",
       "      <th>Gender_Male</th>\n",
       "      <th>Contract Length_Annual</th>\n",
       "      <th>Contract Length_Monthly</th>\n",
       "      <th>Contract Length_Quarterly</th>\n",
       "      <th>Age</th>\n",
       "      <th>Tenure</th>\n",
       "      <th>Usage Frequency</th>\n",
       "      <th>Support Calls</th>\n",
       "      <th>Payment Delay</th>\n",
       "      <th>Total Spend</th>\n",
       "      <th>Last Interaction</th>\n",
       "    </tr>\n",
       "  </thead>\n",
       "  <tbody>\n",
       "    <tr>\n",
       "      <th>0</th>\n",
       "      <td>1.0</td>\n",
       "      <td>0</td>\n",
       "      <td>0</td>\n",
       "      <td>1</td>\n",
       "      <td>1</td>\n",
       "      <td>0</td>\n",
       "      <td>1</td>\n",
       "      <td>0</td>\n",
       "      <td>0</td>\n",
       "      <td>-0.765882</td>\n",
       "      <td>0.443775</td>\n",
       "      <td>-0.198951</td>\n",
       "      <td>0.372313</td>\n",
       "      <td>0.532843</td>\n",
       "      <td>1.271515</td>\n",
       "      <td>0.277572</td>\n",
       "    </tr>\n",
       "    <tr>\n",
       "      <th>1</th>\n",
       "      <td>1.0</td>\n",
       "      <td>1</td>\n",
       "      <td>0</td>\n",
       "      <td>0</td>\n",
       "      <td>1</td>\n",
       "      <td>0</td>\n",
       "      <td>0</td>\n",
       "      <td>1</td>\n",
       "      <td>0</td>\n",
       "      <td>1.996423</td>\n",
       "      <td>1.023906</td>\n",
       "      <td>-1.707190</td>\n",
       "      <td>1.967921</td>\n",
       "      <td>-0.650423</td>\n",
       "      <td>-0.257105</td>\n",
       "      <td>-1.000267</td>\n",
       "    </tr>\n",
       "    <tr>\n",
       "      <th>2</th>\n",
       "      <td>1.0</td>\n",
       "      <td>1</td>\n",
       "      <td>0</td>\n",
       "      <td>0</td>\n",
       "      <td>1</td>\n",
       "      <td>0</td>\n",
       "      <td>0</td>\n",
       "      <td>0</td>\n",
       "      <td>1</td>\n",
       "      <td>1.207193</td>\n",
       "      <td>-1.006553</td>\n",
       "      <td>-1.359135</td>\n",
       "      <td>0.691435</td>\n",
       "      <td>0.532843</td>\n",
       "      <td>-1.773496</td>\n",
       "      <td>-1.348768</td>\n",
       "    </tr>\n",
       "    <tr>\n",
       "      <th>3</th>\n",
       "      <td>1.0</td>\n",
       "      <td>0</td>\n",
       "      <td>0</td>\n",
       "      <td>1</td>\n",
       "      <td>0</td>\n",
       "      <td>1</td>\n",
       "      <td>0</td>\n",
       "      <td>1</td>\n",
       "      <td>0</td>\n",
       "      <td>1.443962</td>\n",
       "      <td>0.385762</td>\n",
       "      <td>0.613177</td>\n",
       "      <td>1.010557</td>\n",
       "      <td>-0.768749</td>\n",
       "      <td>-0.913392</td>\n",
       "      <td>1.671578</td>\n",
       "    </tr>\n",
       "    <tr>\n",
       "      <th>4</th>\n",
       "      <td>1.0</td>\n",
       "      <td>1</td>\n",
       "      <td>0</td>\n",
       "      <td>0</td>\n",
       "      <td>0</td>\n",
       "      <td>1</td>\n",
       "      <td>0</td>\n",
       "      <td>1</td>\n",
       "      <td>0</td>\n",
       "      <td>-1.318343</td>\n",
       "      <td>0.037683</td>\n",
       "      <td>0.497159</td>\n",
       "      <td>0.372313</td>\n",
       "      <td>-0.650423</td>\n",
       "      <td>-0.012526</td>\n",
       "      <td>0.626073</td>\n",
       "    </tr>\n",
       "  </tbody>\n",
       "</table>\n",
       "</div>"
      ],
      "text/plain": [
       "   Churn  Subscription Type_Basic  Subscription Type_Premium  \\\n",
       "0    1.0                        0                          0   \n",
       "1    1.0                        1                          0   \n",
       "2    1.0                        1                          0   \n",
       "3    1.0                        0                          0   \n",
       "4    1.0                        1                          0   \n",
       "\n",
       "   Subscription Type_Standard  Gender_Female  Gender_Male  \\\n",
       "0                           1              1            0   \n",
       "1                           0              1            0   \n",
       "2                           0              1            0   \n",
       "3                           1              0            1   \n",
       "4                           0              0            1   \n",
       "\n",
       "   Contract Length_Annual  Contract Length_Monthly  Contract Length_Quarterly  \\\n",
       "0                       1                        0                          0   \n",
       "1                       0                        1                          0   \n",
       "2                       0                        0                          1   \n",
       "3                       0                        1                          0   \n",
       "4                       0                        1                          0   \n",
       "\n",
       "        Age    Tenure  Usage Frequency  Support Calls  Payment Delay  \\\n",
       "0 -0.765882  0.443775        -0.198951       0.372313       0.532843   \n",
       "1  1.996423  1.023906        -1.707190       1.967921      -0.650423   \n",
       "2  1.207193 -1.006553        -1.359135       0.691435       0.532843   \n",
       "3  1.443962  0.385762         0.613177       1.010557      -0.768749   \n",
       "4 -1.318343  0.037683         0.497159       0.372313      -0.650423   \n",
       "\n",
       "   Total Spend  Last Interaction  \n",
       "0     1.271515          0.277572  \n",
       "1    -0.257105         -1.000267  \n",
       "2    -1.773496         -1.348768  \n",
       "3    -0.913392          1.671578  \n",
       "4    -0.012526          0.626073  "
      ]
     },
     "execution_count": 50,
     "metadata": {},
     "output_type": "execute_result"
    }
   ],
   "source": [
    "df.head()"
   ]
  },
  {
   "cell_type": "code",
   "execution_count": 51,
   "metadata": {},
   "outputs": [
    {
     "data": {
      "text/plain": [
       "55.52032240313852"
      ]
     },
     "execution_count": 51,
     "metadata": {},
     "output_type": "execute_result"
    }
   ],
   "source": [
    "# Checking the chrun rate \n",
    "churn = (sum(df['Churn'])/len(df['Churn'].index))*100\n",
    "churn"
   ]
  },
  {
   "cell_type": "markdown",
   "metadata": {},
   "source": [
    "We have a churn rate of 56%, which is much higher than the standard (approx. 25%)"
   ]
  },
  {
   "cell_type": "code",
   "execution_count": 54,
   "metadata": {},
   "outputs": [],
   "source": [
    "# Splitting the data \n",
    "from sklearn.model_selection import train_test_split\n",
    "\n",
    "# Putting feature variable to X\n",
    "X = df.drop(['Churn'],axis=1)\n",
    "# Putting response variable to y\n",
    "y = df['Churn']\n",
    "X_train, X_test, y_train, y_test = train_test_split(X,y, train_size=0.7,test_size=0.3,random_state=9)"
   ]
  },
  {
   "cell_type": "code",
   "execution_count": 56,
   "metadata": {},
   "outputs": [
    {
     "data": {
      "text/html": [
       "<style>#sk-container-id-1 {color: black;background-color: white;}#sk-container-id-1 pre{padding: 0;}#sk-container-id-1 div.sk-toggleable {background-color: white;}#sk-container-id-1 label.sk-toggleable__label {cursor: pointer;display: block;width: 100%;margin-bottom: 0;padding: 0.3em;box-sizing: border-box;text-align: center;}#sk-container-id-1 label.sk-toggleable__label-arrow:before {content: \"▸\";float: left;margin-right: 0.25em;color: #696969;}#sk-container-id-1 label.sk-toggleable__label-arrow:hover:before {color: black;}#sk-container-id-1 div.sk-estimator:hover label.sk-toggleable__label-arrow:before {color: black;}#sk-container-id-1 div.sk-toggleable__content {max-height: 0;max-width: 0;overflow: hidden;text-align: left;background-color: #f0f8ff;}#sk-container-id-1 div.sk-toggleable__content pre {margin: 0.2em;color: black;border-radius: 0.25em;background-color: #f0f8ff;}#sk-container-id-1 input.sk-toggleable__control:checked~div.sk-toggleable__content {max-height: 200px;max-width: 100%;overflow: auto;}#sk-container-id-1 input.sk-toggleable__control:checked~label.sk-toggleable__label-arrow:before {content: \"▾\";}#sk-container-id-1 div.sk-estimator input.sk-toggleable__control:checked~label.sk-toggleable__label {background-color: #d4ebff;}#sk-container-id-1 div.sk-label input.sk-toggleable__control:checked~label.sk-toggleable__label {background-color: #d4ebff;}#sk-container-id-1 input.sk-hidden--visually {border: 0;clip: rect(1px 1px 1px 1px);clip: rect(1px, 1px, 1px, 1px);height: 1px;margin: -1px;overflow: hidden;padding: 0;position: absolute;width: 1px;}#sk-container-id-1 div.sk-estimator {font-family: monospace;background-color: #f0f8ff;border: 1px dotted black;border-radius: 0.25em;box-sizing: border-box;margin-bottom: 0.5em;}#sk-container-id-1 div.sk-estimator:hover {background-color: #d4ebff;}#sk-container-id-1 div.sk-parallel-item::after {content: \"\";width: 100%;border-bottom: 1px solid gray;flex-grow: 1;}#sk-container-id-1 div.sk-label:hover label.sk-toggleable__label {background-color: #d4ebff;}#sk-container-id-1 div.sk-serial::before {content: \"\";position: absolute;border-left: 1px solid gray;box-sizing: border-box;top: 0;bottom: 0;left: 50%;z-index: 0;}#sk-container-id-1 div.sk-serial {display: flex;flex-direction: column;align-items: center;background-color: white;padding-right: 0.2em;padding-left: 0.2em;position: relative;}#sk-container-id-1 div.sk-item {position: relative;z-index: 1;}#sk-container-id-1 div.sk-parallel {display: flex;align-items: stretch;justify-content: center;background-color: white;position: relative;}#sk-container-id-1 div.sk-item::before, #sk-container-id-1 div.sk-parallel-item::before {content: \"\";position: absolute;border-left: 1px solid gray;box-sizing: border-box;top: 0;bottom: 0;left: 50%;z-index: -1;}#sk-container-id-1 div.sk-parallel-item {display: flex;flex-direction: column;z-index: 1;position: relative;background-color: white;}#sk-container-id-1 div.sk-parallel-item:first-child::after {align-self: flex-end;width: 50%;}#sk-container-id-1 div.sk-parallel-item:last-child::after {align-self: flex-start;width: 50%;}#sk-container-id-1 div.sk-parallel-item:only-child::after {width: 0;}#sk-container-id-1 div.sk-dashed-wrapped {border: 1px dashed gray;margin: 0 0.4em 0.5em 0.4em;box-sizing: border-box;padding-bottom: 0.4em;background-color: white;}#sk-container-id-1 div.sk-label label {font-family: monospace;font-weight: bold;display: inline-block;line-height: 1.2em;}#sk-container-id-1 div.sk-label-container {text-align: center;}#sk-container-id-1 div.sk-container {/* jupyter's `normalize.less` sets `[hidden] { display: none; }` but bootstrap.min.css set `[hidden] { display: none !important; }` so we also need the `!important` here to be able to override the default hidden behavior on the sphinx rendered scikit-learn.org. See: https://github.com/scikit-learn/scikit-learn/issues/21755 */display: inline-block !important;position: relative;}#sk-container-id-1 div.sk-text-repr-fallback {display: none;}</style><div id=\"sk-container-id-1\" class=\"sk-top-container\"><div class=\"sk-text-repr-fallback\"><pre>PCA(random_state=42, svd_solver=&#x27;randomized&#x27;)</pre><b>In a Jupyter environment, please rerun this cell to show the HTML representation or trust the notebook. <br />On GitHub, the HTML representation is unable to render, please try loading this page with nbviewer.org.</b></div><div class=\"sk-container\" hidden><div class=\"sk-item\"><div class=\"sk-estimator sk-toggleable\"><input class=\"sk-toggleable__control sk-hidden--visually\" id=\"sk-estimator-id-1\" type=\"checkbox\" checked><label for=\"sk-estimator-id-1\" class=\"sk-toggleable__label sk-toggleable__label-arrow\">PCA</label><div class=\"sk-toggleable__content\"><pre>PCA(random_state=42, svd_solver=&#x27;randomized&#x27;)</pre></div></div></div></div></div>"
      ],
      "text/plain": [
       "PCA(random_state=42, svd_solver='randomized')"
      ]
     },
     "execution_count": 56,
     "metadata": {},
     "output_type": "execute_result"
    }
   ],
   "source": [
    "#Improting the PCA module\n",
    "from sklearn.decomposition import PCA\n",
    "pca = PCA(svd_solver='randomized', random_state=42)\n",
    "pca.fit(X_train)"
   ]
  },
  {
   "cell_type": "code",
   "execution_count": 57,
   "metadata": {},
   "outputs": [
    {
     "data": {
      "text/plain": [
       "array([[ 5.90555003e-03, -3.46018110e-03, -2.44536892e-03,\n",
       "         5.32665825e-02, -5.32665825e-02, -4.93015010e-02,\n",
       "         1.00977674e-01, -5.16761731e-02,  3.60304282e-01,\n",
       "        -4.70552032e-02, -8.03326484e-02,  5.83551648e-01,\n",
       "         4.53203285e-01, -4.99271549e-01,  2.12815492e-01],\n",
       "       [-1.11170460e-02,  6.74875006e-03,  4.36829594e-03,\n",
       "        -7.39670115e-03,  7.39670115e-03, -3.38212508e-03,\n",
       "         2.92765707e-03,  4.54468014e-04,  1.20838987e-02,\n",
       "        -7.19278151e-01,  6.89852812e-01,  1.29033529e-03,\n",
       "        -1.37957051e-02, -1.36599608e-02,  7.68087352e-02],\n",
       "       [ 3.11897738e-03, -1.17996223e-03, -1.93901515e-03,\n",
       "        -1.29719215e-01,  1.29719215e-01,  2.54134230e-03,\n",
       "        -5.76888543e-03,  3.22754313e-03, -1.80676174e-01,\n",
       "         1.78989151e-01,  8.23836301e-02, -6.42701992e-02,\n",
       "        -8.04573615e-02,  6.19045590e-02,  9.38283825e-01],\n",
       "       [-1.15087761e-02,  7.52381682e-03,  3.98495929e-03,\n",
       "        -2.46805441e-02,  2.46805441e-02,  2.31495862e-03,\n",
       "        -3.46298382e-03,  1.14802520e-03, -6.46060407e-04,\n",
       "        -6.62153382e-01, -7.11322791e-01, -4.58344024e-02,\n",
       "        -1.53155288e-01,  4.65418986e-02,  1.62502363e-01],\n",
       "       [-1.19766805e-03,  6.61967227e-04,  5.35700820e-04,\n",
       "         2.90027333e-02, -2.90027333e-02, -6.67713764e-03,\n",
       "         1.22025291e-02, -5.52539150e-03, -8.54888224e-01,\n",
       "        -8.11316447e-02, -5.53952377e-02, -5.14245936e-03,\n",
       "         4.46271188e-01, -2.26916673e-01, -8.32529966e-02],\n",
       "       [ 2.44313186e-03, -6.74624773e-04, -1.76850709e-03,\n",
       "         1.53312335e-02, -1.53312335e-02, -4.91767449e-03,\n",
       "         9.10528739e-03, -4.18761291e-03, -1.79237546e-01,\n",
       "         5.27411377e-02,  3.65785348e-02,  7.99917555e-02,\n",
       "        -6.91224259e-01, -6.90133064e-01, -5.17369279e-02],\n",
       "       [ 2.36868534e-03,  8.35794808e-05, -2.45226483e-03,\n",
       "         2.96774871e-02, -2.96774871e-02, -1.49697647e-02,\n",
       "         2.73916593e-02, -1.24218947e-02, -2.71704959e-01,\n",
       "         7.89269089e-03,  2.06564824e-02,  7.92087853e-01,\n",
       "        -2.88258130e-01,  4.58253461e-01, -4.78898867e-02],\n",
       "       [-2.09897392e-03, -4.43949058e-03,  6.53846450e-03,\n",
       "         6.89854594e-01, -6.89854594e-01, -2.98178579e-02,\n",
       "         3.69222246e-02, -7.10436664e-03, -1.13271672e-02,\n",
       "         8.22977311e-03,  4.49483157e-03, -1.00070879e-01,\n",
       "        -4.93668061e-02,  6.01416314e-02,  1.71892612e-01],\n",
       "       [ 8.78398587e-03, -1.89181940e-04, -8.59480393e-03,\n",
       "         1.11642450e-02, -1.11642450e-02,  7.07733164e-01,\n",
       "        -1.55944463e-03, -7.06173720e-01, -2.07758099e-03,\n",
       "        -1.34632720e-03,  2.70140619e-03, -9.58606273e-04,\n",
       "        -1.91545183e-03,  1.94768091e-03,  2.80355542e-03],\n",
       "       [-1.31653984e-03, -7.06400616e-01,  7.07717156e-01,\n",
       "        -5.20797799e-03,  5.20797799e-03,  6.40578595e-03,\n",
       "        -4.23413862e-03, -2.17164734e-03, -8.55567382e-04,\n",
       "        -2.76304597e-03, -4.96628229e-04,  2.16723862e-03,\n",
       "        -1.19517746e-03,  1.90582690e-05, -4.46724866e-04],\n",
       "       [ 8.16161507e-01, -4.09293635e-01, -4.06867872e-01,\n",
       "         6.05425401e-04, -6.05425401e-04, -1.33420107e-02,\n",
       "         1.14375630e-02,  1.90444764e-03, -2.02396070e-03,\n",
       "        -1.96390282e-02, -5.67341849e-04, -8.84321100e-03,\n",
       "        -2.53773616e-03,  5.22195195e-03, -1.56265794e-03],\n",
       "       [-1.22517716e-02,  2.71885553e-03,  9.53291603e-03,\n",
       "        -4.07836624e-02,  4.07836624e-02, -4.02399715e-01,\n",
       "         8.08653073e-01, -4.06253358e-01, -2.16679259e-02,\n",
       "         7.16923361e-03,  4.60499365e-03, -9.64783186e-02,\n",
       "        -4.46790004e-02,  5.58915687e-02, -2.38253371e-02],\n",
       "       [-4.21165679e-01, -4.21165679e-01, -4.21165679e-01,\n",
       "         2.98628712e-02,  2.98628712e-02, -3.94155143e-01,\n",
       "        -3.94155143e-01, -3.94155143e-01, -5.89805982e-17,\n",
       "         6.93889390e-17, -1.10154941e-16,  1.11022302e-16,\n",
       "         5.37764278e-17, -4.68375339e-17,  6.15826834e-17],\n",
       "       [-3.85490646e-01, -3.85490646e-01, -3.85490646e-01,\n",
       "         1.22124162e-01,  1.22124162e-01,  4.18075856e-01,\n",
       "         4.18075856e-01,  4.18075856e-01,  1.03216047e-16,\n",
       "        -8.32667268e-17,  1.00288701e-16, -1.35308431e-16,\n",
       "        -4.16333634e-17,  1.05818132e-16, -1.94289029e-16],\n",
       "       [ 8.57307743e-02,  8.57307743e-02,  8.57307743e-02,\n",
       "         6.95840426e-01,  6.95840426e-01, -5.64591503e-02,\n",
       "        -5.64591503e-02, -5.64591503e-02,  3.20923843e-17,\n",
       "         5.37764278e-17, -2.22532496e-17, -1.30104261e-16,\n",
       "         9.97465999e-18, -2.64545330e-17,  6.93889390e-17]])"
      ]
     },
     "execution_count": 57,
     "metadata": {},
     "output_type": "execute_result"
    }
   ],
   "source": [
    "pca.components_"
   ]
  },
  {
   "cell_type": "code",
   "execution_count": 58,
   "metadata": {},
   "outputs": [
    {
     "data": {
      "text/html": [
       "<div>\n",
       "<style scoped>\n",
       "    .dataframe tbody tr th:only-of-type {\n",
       "        vertical-align: middle;\n",
       "    }\n",
       "\n",
       "    .dataframe tbody tr th {\n",
       "        vertical-align: top;\n",
       "    }\n",
       "\n",
       "    .dataframe thead th {\n",
       "        text-align: right;\n",
       "    }\n",
       "</style>\n",
       "<table border=\"1\" class=\"dataframe\">\n",
       "  <thead>\n",
       "    <tr style=\"text-align: right;\">\n",
       "      <th></th>\n",
       "      <th>PC1</th>\n",
       "      <th>PC2</th>\n",
       "      <th>Feature</th>\n",
       "    </tr>\n",
       "  </thead>\n",
       "  <tbody>\n",
       "    <tr>\n",
       "      <th>0</th>\n",
       "      <td>0.005906</td>\n",
       "      <td>-0.011117</td>\n",
       "      <td>Subscription Type_Basic</td>\n",
       "    </tr>\n",
       "    <tr>\n",
       "      <th>1</th>\n",
       "      <td>-0.003460</td>\n",
       "      <td>0.006749</td>\n",
       "      <td>Subscription Type_Premium</td>\n",
       "    </tr>\n",
       "    <tr>\n",
       "      <th>2</th>\n",
       "      <td>-0.002445</td>\n",
       "      <td>0.004368</td>\n",
       "      <td>Subscription Type_Standard</td>\n",
       "    </tr>\n",
       "    <tr>\n",
       "      <th>3</th>\n",
       "      <td>0.053267</td>\n",
       "      <td>-0.007397</td>\n",
       "      <td>Gender_Female</td>\n",
       "    </tr>\n",
       "    <tr>\n",
       "      <th>4</th>\n",
       "      <td>-0.053267</td>\n",
       "      <td>0.007397</td>\n",
       "      <td>Gender_Male</td>\n",
       "    </tr>\n",
       "  </tbody>\n",
       "</table>\n",
       "</div>"
      ],
      "text/plain": [
       "        PC1       PC2                     Feature\n",
       "0  0.005906 -0.011117     Subscription Type_Basic\n",
       "1 -0.003460  0.006749   Subscription Type_Premium\n",
       "2 -0.002445  0.004368  Subscription Type_Standard\n",
       "3  0.053267 -0.007397               Gender_Female\n",
       "4 -0.053267  0.007397                 Gender_Male"
      ]
     },
     "execution_count": 58,
     "metadata": {},
     "output_type": "execute_result"
    }
   ],
   "source": [
    "colnames = list(X_train.columns)\n",
    "pcs_df = pd.DataFrame({'PC1':pca.components_[0],'PC2':pca.components_[1], 'Feature':colnames})\n",
    "pcs_df.head()"
   ]
  },
  {
   "cell_type": "code",
   "execution_count": 59,
   "metadata": {},
   "outputs": [
    {
     "data": {
      "image/png": "[encoded data removed]",
      "text/plain": [
       "<Figure size 800x800 with 1 Axes>"
      ]
     },
     "metadata": {},
     "output_type": "display_data"
    }
   ],
   "source": [
    "%matplotlib inline\n",
    "fig = plt.figure(figsize = (8,8))\n",
    "plt.scatter(pcs_df.PC1, pcs_df.PC2)\n",
    "plt.xlabel('Principal Component 1')\n",
    "plt.ylabel('Principal Component 2')\n",
    "for i, txt in enumerate(pcs_df.Feature):\n",
    "    plt.annotate(txt, (pcs_df.PC1[i],pcs_df.PC2[i]))\n",
    "plt.tight_layout()\n",
    "plt.show()"
   ]
  },
  {
   "cell_type": "code",
   "execution_count": 60,
   "metadata": {},
   "outputs": [
    {
     "data": {
      "text/plain": [
       "array([1.66642449e-01, 1.15983571e-01, 1.13140935e-01, 1.10780771e-01,\n",
       "       1.07623159e-01, 9.87505711e-02, 8.71473159e-02, 5.32605189e-02,\n",
       "       4.44751729e-02, 3.82902720e-02, 3.73373084e-02, 2.65679560e-02,\n",
       "       8.26338871e-37, 2.19020512e-37, 9.46670254e-39])"
      ]
     },
     "execution_count": 60,
     "metadata": {},
     "output_type": "execute_result"
    }
   ],
   "source": [
    "pca.explained_variance_ratio_"
   ]
  },
  {
   "cell_type": "code",
   "execution_count": 61,
   "metadata": {},
   "outputs": [
    {
     "data": {
      "image/png": "[encoded data removed]",
      "text/plain": [
       "<Figure size 1200x800 with 1 Axes>"
      ]
     },
     "metadata": {},
     "output_type": "display_data"
    }
   ],
   "source": [
    "#Making the screeplot - plotting the cumulative variance against the number of components\n",
    "%matplotlib inline\n",
    "fig = plt.figure(figsize = (12,8))\n",
    "plt.plot(np.cumsum(pca.explained_variance_ratio_))\n",
    "plt.xlabel('number of components')\n",
    "plt.ylabel('cumulative explained variance')\n",
    "plt.show()"
   ]
  },
  {
   "cell_type": "code",
   "execution_count": 64,
   "metadata": {},
   "outputs": [],
   "source": [
    "#Using incremental PCA for efficiency - saves a lot of time on larger datasets\n",
    "from sklearn.decomposition import IncrementalPCA\n",
    "pca_final = IncrementalPCA(n_components=11)"
   ]
  },
  {
   "cell_type": "code",
   "execution_count": 65,
   "metadata": {},
   "outputs": [
    {
     "data": {
      "text/plain": [
       "(353644, 11)"
      ]
     },
     "execution_count": 65,
     "metadata": {},
     "output_type": "execute_result"
    }
   ],
   "source": [
    "df_train_pca = pca_final.fit_transform(X_train)\n",
    "df_train_pca.shape"
   ]
  },
  {
   "cell_type": "code",
   "execution_count": 66,
   "metadata": {},
   "outputs": [],
   "source": [
    "#creating correlation matrix for the principal components\n",
    "corrmat = np.corrcoef(df_train_pca.transpose())"
   ]
  },
  {
   "cell_type": "code",
   "execution_count": 67,
   "metadata": {},
   "outputs": [
    {
     "data": {
      "text/plain": [
       "<AxesSubplot: >"
      ]
     },
     "execution_count": 67,
     "metadata": {},
     "output_type": "execute_result"
    },
    {
     "data": {
      "image/png": "[encoded data removed]",
      "text/plain": [
       "<Figure size 2000x1000 with 2 Axes>"
      ]
     },
     "metadata": {},
     "output_type": "display_data"
    }
   ],
   "source": [
    "#plotting the correlation matrix\n",
    "%matplotlib inline\n",
    "plt.figure(figsize = (20,10))\n",
    "sns.heatmap(corrmat,annot = True)"
   ]
  },
  {
   "cell_type": "code",
   "execution_count": 68,
   "metadata": {},
   "outputs": [
    {
     "name": "stdout",
     "output_type": "stream",
     "text": [
      "max corr: 2.6937565603039003e-05 , min corr:  -6.037002643209891e-05\n"
     ]
    }
   ],
   "source": [
    "# 1s -> 0s in diagonals\n",
    "corrmat_nodiag = corrmat - np.diagflat(corrmat.diagonal())\n",
    "print(\"max corr:\",corrmat_nodiag.max(), \", min corr: \", corrmat_nodiag.min(),)\n",
    "# we see that correlations are indeed very close to 0"
   ]
  },
  {
   "cell_type": "code",
   "execution_count": 69,
   "metadata": {},
   "outputs": [
    {
     "data": {
      "text/plain": [
       "(151562, 11)"
      ]
     },
     "execution_count": 69,
     "metadata": {},
     "output_type": "execute_result"
    }
   ],
   "source": [
    "#Applying selected components to the test data - 11 components\n",
    "df_test_pca = pca_final.transform(X_test)\n",
    "df_test_pca.shape"
   ]
  },
  {
   "cell_type": "code",
   "execution_count": 70,
   "metadata": {},
   "outputs": [],
   "source": [
    "#Training the model on the train data\n",
    "from sklearn.linear_model import LogisticRegression\n",
    "from sklearn import metrics\n",
    "\n",
    "learner_pca = LogisticRegression()\n",
    "model_pca = learner_pca.fit(df_train_pca,y_train)"
   ]
  },
  {
   "cell_type": "code",
   "execution_count": 80,
   "metadata": {},
   "outputs": [
    {
     "name": "stdout",
     "output_type": "stream",
     "text": [
      "[[-6.91691469e-01  1.70871953e+00 -4.53261339e-02 ...  7.24310536e-01\n",
      "  -8.37054154e-03  8.02122960e-01]\n",
      " [-1.84033706e+00  2.02576360e+00 -9.70971955e-01 ... -7.13959810e-01\n",
      "  -6.29532536e-03  8.16914104e-01]\n",
      " [ 1.49603037e+00  7.69565247e-01 -1.49178153e+00 ... -7.29981227e-01\n",
      "  -7.06677213e-01 -4.28327377e-01]\n",
      " ...\n",
      " [ 2.03758184e+00 -5.78038872e-02  4.47201652e-01 ...  7.04482755e-01\n",
      "   7.02043024e-01 -4.17168414e-01]\n",
      " [ 3.41793310e-01 -4.45522964e-01 -1.77074861e+00 ... -1.13162409e-02\n",
      "   3.90828264e-03  8.78618547e-01]\n",
      " [-3.48023350e-01 -1.00262232e+00  1.38298952e+00 ...  5.01352892e-03\n",
      "   1.35540258e-03  8.52225439e-01]]\n"
     ]
    }
   ],
   "source": [
    "print(df_test_pca)"
   ]
  },
  {
   "cell_type": "code",
   "execution_count": 81,
   "metadata": {},
   "outputs": [
    {
     "data": {
      "text/plain": [
       "'0.89'"
      ]
     },
     "execution_count": 81,
     "metadata": {},
     "output_type": "execute_result"
    }
   ],
   "source": [
    "#Making prediction on the test data\n",
    "pred_probs_test = model_pca.predict_proba(df_test_pca)[:,1]\n",
    "\"{:2.2}\".format(metrics.roc_auc_score(y_test, pred_probs_test))"
   ]
  },
  {
   "cell_type": "code",
   "execution_count": 75,
   "metadata": {},
   "outputs": [
    {
     "data": {
      "image/png": "[encoded data removed]",
      "text/plain": [
       "<Figure size 640x480 with 1 Axes>"
      ]
     },
     "metadata": {},
     "output_type": "display_data"
    }
   ],
   "source": [
    "components = None\n",
    "components = len(pca.explained_variance_ratio_) if components is None else components\n",
    "\n",
    "# Create a bar chart\n",
    "plt.bar(range(1, components + 1), pca.explained_variance_ratio_ * 100)\n",
    "\n",
    "plt.xlabel(\"Number of components\")\n",
    "plt.ylabel(\"Explained variance (%)\")\n",
    "plt.title(\"Explained Variance by Component\")\n",
    "\n",
    "# Show the bar chart\n",
    "plt.show()"
   ]
  },
  {
   "cell_type": "markdown",
   "metadata": {},
   "source": [
    "### Trying out codes from Johannes for PCA after dummy and normalization "
   ]
  },
  {
   "cell_type": "code",
   "execution_count": 82,
   "metadata": {},
   "outputs": [
    {
     "name": "stdout",
     "output_type": "stream",
     "text": [
      "Variances (Percentage):\n",
      "[16.66424488 11.59835708 11.31409351 11.07807714 10.76231587  9.87505711\n",
      "  8.71473159  5.32605189]\n",
      "\n"
     ]
    }
   ],
   "source": [
    "components = None\n",
    "pca = PCA(n_components = 0.85) #or n_components = desired % of variance explained\n",
    "# perform PCA on the scaled data\n",
    "pca.fit(X_train)\n",
    "\n",
    "print(\"Variances (Percentage):\")\n",
    "print(pca.explained_variance_ratio_ * 100)\n",
    "print()"
   ]
  },
  {
   "cell_type": "code",
   "execution_count": 83,
   "metadata": {},
   "outputs": [
    {
     "name": "stdout",
     "output_type": "stream",
     "text": [
      "Cumulative Variances (Percentage):\n",
      "[16.66424488 28.26260196 39.57669547 50.65477261 61.41708848 71.29214559\n",
      " 80.00687718 85.33292907]\n",
      "\n"
     ]
    }
   ],
   "source": [
    "#get cumulative variance\n",
    "print(\"Cumulative Variances (Percentage):\")\n",
    "print(pca.explained_variance_ratio_.cumsum() * 100)\n",
    "print()"
   ]
  },
  {
   "cell_type": "code",
   "execution_count": 84,
   "metadata": {},
   "outputs": [
    {
     "data": {
      "image/png": "[encoded data removed]",
      "text/plain": [
       "<Figure size 640x480 with 1 Axes>"
      ]
     },
     "metadata": {},
     "output_type": "display_data"
    }
   ],
   "source": [
    "# Number of components you want to display\n",
    "components = len(pca.explained_variance_ratio_) if components is None else components\n",
    "\n",
    "# Create a bar chart\n",
    "plt.bar(range(1, components + 1), pca.explained_variance_ratio_ * 100)\n",
    "\n",
    "plt.xlabel(\"Number of components\")\n",
    "plt.ylabel(\"Explained variance (%)\")\n",
    "plt.title(\"Explained Variance by Component\")\n",
    "\n",
    "# Show the bar chart\n",
    "plt.show()"
   ]
  },
  {
   "cell_type": "code",
   "execution_count": 85,
   "metadata": {},
   "outputs": [
    {
     "name": "stdout",
     "output_type": "stream",
     "text": [
      "[[5.90555003e-03 3.46018110e-03 2.44536892e-03 5.32665825e-02\n",
      "  5.32665825e-02 4.93015010e-02 1.00977674e-01 5.16761731e-02\n",
      "  3.60304282e-01 4.70552032e-02 8.03326484e-02 5.83551648e-01\n",
      "  4.53203285e-01 4.99271549e-01 2.12815492e-01]\n",
      " [1.11170460e-02 6.74875006e-03 4.36829594e-03 7.39670115e-03\n",
      "  7.39670115e-03 3.38212508e-03 2.92765707e-03 4.54468014e-04\n",
      "  1.20838987e-02 7.19278151e-01 6.89852812e-01 1.29033529e-03\n",
      "  1.37957051e-02 1.36599608e-02 7.68087352e-02]\n",
      " [3.11897738e-03 1.17996223e-03 1.93901515e-03 1.29719215e-01\n",
      "  1.29719215e-01 2.54134230e-03 5.76888543e-03 3.22754313e-03\n",
      "  1.80676174e-01 1.78989151e-01 8.23836301e-02 6.42701992e-02\n",
      "  8.04573615e-02 6.19045590e-02 9.38283825e-01]\n",
      " [1.15087761e-02 7.52381682e-03 3.98495929e-03 2.46805441e-02\n",
      "  2.46805441e-02 2.31495862e-03 3.46298382e-03 1.14802520e-03\n",
      "  6.46060407e-04 6.62153382e-01 7.11322791e-01 4.58344024e-02\n",
      "  1.53155288e-01 4.65418986e-02 1.62502363e-01]\n",
      " [1.19766805e-03 6.61967227e-04 5.35700820e-04 2.90027333e-02\n",
      "  2.90027333e-02 6.67713764e-03 1.22025291e-02 5.52539150e-03\n",
      "  8.54888224e-01 8.11316447e-02 5.53952377e-02 5.14245936e-03\n",
      "  4.46271188e-01 2.26916673e-01 8.32529966e-02]\n",
      " [2.44313186e-03 6.74624773e-04 1.76850709e-03 1.53312335e-02\n",
      "  1.53312335e-02 4.91767449e-03 9.10528739e-03 4.18761291e-03\n",
      "  1.79237546e-01 5.27411377e-02 3.65785348e-02 7.99917555e-02\n",
      "  6.91224259e-01 6.90133064e-01 5.17369279e-02]\n",
      " [2.36868534e-03 8.35794808e-05 2.45226483e-03 2.96774871e-02\n",
      "  2.96774871e-02 1.49697647e-02 2.73916593e-02 1.24218947e-02\n",
      "  2.71704959e-01 7.89269089e-03 2.06564824e-02 7.92087853e-01\n",
      "  2.88258130e-01 4.58253461e-01 4.78898867e-02]\n",
      " [2.09897392e-03 4.43949058e-03 6.53846450e-03 6.89854594e-01\n",
      "  6.89854594e-01 2.98178579e-02 3.69222246e-02 7.10436664e-03\n",
      "  1.13271672e-02 8.22977311e-03 4.49483157e-03 1.00070879e-01\n",
      "  4.93668061e-02 6.01416314e-02 1.71892612e-01]]\n"
     ]
    }
   ],
   "source": [
    "#how much each feature contribures to each component\n",
    "pca_components = abs(pca.components_)\n",
    "print(pca_components)"
   ]
  },
  {
   "cell_type": "code",
   "execution_count": 87,
   "metadata": {},
   "outputs": [
    {
     "name": "stdout",
     "output_type": "stream",
     "text": [
      "Top 4 most important features in each component\n",
      "===============================================\n"
     ]
    },
    {
     "ename": "IndexError",
     "evalue": "index 13 is out of bounds for axis 0 with size 12",
     "output_type": "error",
     "traceback": [
      "\u001b[1;31m---------------------------------------------------------------------------\u001b[0m",
      "\u001b[1;31mIndexError\u001b[0m                                Traceback (most recent call last)",
      "\u001b[1;32mc:\\Users\\fredr\\OneDrive\\Documents\\Master\\Semester_3\\Applied ML\\AppliedML_Assign.01\\Fredrik_Codes.ipynb Cell 40\u001b[0m line \u001b[0;36m1\n\u001b[0;32m      <a href='vscode-notebook-cell:/c%3A/Users/fredr/OneDrive/Documents/Master/Semester_3/Applied%20ML/AppliedML_Assign.01/Fredrik_Codes.ipynb#Y140sZmlsZQ%3D%3D?line=7'>8</a>\u001b[0m indices \u001b[39m=\u001b[39m temp[np\u001b[39m.\u001b[39margsort((\u001b[39m-\u001b[39mpca_components[row])[temp])][:\u001b[39m4\u001b[39m]\n\u001b[0;32m     <a href='vscode-notebook-cell:/c%3A/Users/fredr/OneDrive/Documents/Master/Semester_3/Applied%20ML/AppliedML_Assign.01/Fredrik_Codes.ipynb#Y140sZmlsZQ%3D%3D?line=9'>10</a>\u001b[0m \u001b[39m# print the top 4 feature names\u001b[39;00m\n\u001b[1;32m---> <a href='vscode-notebook-cell:/c%3A/Users/fredr/OneDrive/Documents/Master/Semester_3/Applied%20ML/AppliedML_Assign.01/Fredrik_Codes.ipynb#Y140sZmlsZQ%3D%3D?line=10'>11</a>\u001b[0m \u001b[39mprint\u001b[39m(\u001b[39mf\u001b[39m\u001b[39m'\u001b[39m\u001b[39mComponent \u001b[39m\u001b[39m{\u001b[39;00mrow\u001b[39m}\u001b[39;00m\u001b[39m: \u001b[39m\u001b[39m{\u001b[39;00mtrain_df\u001b[39m.\u001b[39mcolumns[indices]\u001b[39m.\u001b[39mto_list()\u001b[39m}\u001b[39;00m\u001b[39m'\u001b[39m)\n",
      "File \u001b[1;32m~\\AppData\\Local\\Packages\\PythonSoftwareFoundation.Python.3.10_qbz5n2kfra8p0\\LocalCache\\local-packages\\Python310\\site-packages\\pandas\\core\\indexes\\base.py:5069\u001b[0m, in \u001b[0;36mIndex.__getitem__\u001b[1;34m(self, key)\u001b[0m\n\u001b[0;32m   5062\u001b[0m \u001b[39mif\u001b[39;00m com\u001b[39m.\u001b[39mis_bool_indexer(key):\n\u001b[0;32m   5063\u001b[0m     \u001b[39m# if we have list[bools, length=1e5] then doing this check+convert\u001b[39;00m\n\u001b[0;32m   5064\u001b[0m     \u001b[39m#  takes 166 µs + 2.1 ms and cuts the ndarray.__getitem__\u001b[39;00m\n\u001b[0;32m   5065\u001b[0m     \u001b[39m#  time below from 3.8 ms to 496 µs\u001b[39;00m\n\u001b[0;32m   5066\u001b[0m     \u001b[39m# if we already have ndarray[bool], the overhead is 1.4 µs or .25%\u001b[39;00m\n\u001b[0;32m   5067\u001b[0m     key \u001b[39m=\u001b[39m np\u001b[39m.\u001b[39masarray(key, dtype\u001b[39m=\u001b[39m\u001b[39mbool\u001b[39m)\n\u001b[1;32m-> 5069\u001b[0m result \u001b[39m=\u001b[39m getitem(key)\n\u001b[0;32m   5070\u001b[0m \u001b[39m# Because we ruled out integer above, we always get an arraylike here\u001b[39;00m\n\u001b[0;32m   5071\u001b[0m \u001b[39mif\u001b[39;00m result\u001b[39m.\u001b[39mndim \u001b[39m>\u001b[39m \u001b[39m1\u001b[39m:\n",
      "\u001b[1;31mIndexError\u001b[0m: index 13 is out of bounds for axis 0 with size 12"
     ]
    }
   ],
   "source": [
    "print('Top 4 most important features in each component')\n",
    "print('===============================================')\n",
    "for row in range(pca_components.shape[0]):\n",
    "    # get the indices of the top 4 values in each row\n",
    "    temp = np.argpartition(-(pca_components[row]), 4)\n",
    "    \n",
    "    # sort the indices in descending order\n",
    "    indices = temp[np.argsort((-pca_components[row])[temp])][:4]\n",
    "    \n",
    "    # print the top 4 feature names\n",
    "    print(f'Component {row}: {train_df.columns[indices].to_list()}')"
   ]
  },
  {
   "cell_type": "code",
   "execution_count": 88,
   "metadata": {},
   "outputs": [
    {
     "name": "stdout",
     "output_type": "stream",
     "text": [
      "Top 6 Features for PC1:\n",
      "Support Calls              0.583552\n",
      "Total Spend                0.499272\n",
      "Payment Delay              0.453203\n",
      "Age                        0.360304\n",
      "Last Interaction           0.212815\n",
      "Contract Length_Monthly    0.100978\n",
      "Name: PC1, dtype: float64\n",
      "\n",
      "Top 6 Features for PC2:\n",
      "Tenure              0.719278\n",
      "Usage Frequency     0.689853\n",
      "Last Interaction    0.076809\n",
      "Payment Delay       0.013796\n",
      "Total Spend         0.013660\n",
      "Age                 0.012084\n",
      "Name: PC2, dtype: float64\n",
      "\n",
      "Top 6 Features for PC3:\n",
      "Last Interaction    0.938284\n",
      "Age                 0.180676\n",
      "Tenure              0.178989\n",
      "Gender_Male         0.129719\n",
      "Gender_Female       0.129719\n",
      "Usage Frequency     0.082384\n",
      "Name: PC3, dtype: float64\n",
      "\n",
      "Top 6 Features for PC4:\n",
      "Usage Frequency     0.711323\n",
      "Tenure              0.662153\n",
      "Last Interaction    0.162502\n",
      "Payment Delay       0.153155\n",
      "Total Spend         0.046542\n",
      "Support Calls       0.045834\n",
      "Name: PC4, dtype: float64\n",
      "\n",
      "Top 6 Features for PC5:\n",
      "Age                 0.854888\n",
      "Payment Delay       0.446271\n",
      "Total Spend         0.226917\n",
      "Last Interaction    0.083253\n",
      "Tenure              0.081132\n",
      "Usage Frequency     0.055395\n",
      "Name: PC5, dtype: float64\n",
      "\n",
      "Top 6 Features for PC6:\n",
      "Payment Delay       0.691224\n",
      "Total Spend         0.690133\n",
      "Age                 0.179238\n",
      "Support Calls       0.079992\n",
      "Tenure              0.052741\n",
      "Last Interaction    0.051737\n",
      "Name: PC6, dtype: float64\n",
      "\n",
      "Top 6 Features for PC7:\n",
      "Support Calls       0.792088\n",
      "Total Spend         0.458253\n",
      "Payment Delay       0.288258\n",
      "Age                 0.271705\n",
      "Last Interaction    0.047890\n",
      "Gender_Male         0.029677\n",
      "Name: PC7, dtype: float64\n",
      "\n",
      "Top 6 Features for PC8:\n",
      "Gender_Male         0.689855\n",
      "Gender_Female       0.689855\n",
      "Last Interaction    0.171893\n",
      "Support Calls       0.100071\n",
      "Total Spend         0.060142\n",
      "Payment Delay       0.049367\n",
      "Name: PC8, dtype: float64\n",
      "\n"
     ]
    }
   ],
   "source": [
    "# Create a DataFrame to store feature contributions to each principal component\n",
    "feature_contributions = pd.DataFrame(\n",
    "    data=pca.components_,\n",
    "    columns=X.columns,  # Assuming X is a DataFrame with column names\n",
    "    index=[f'PC{i+1}' for i in range(len(pca.components_))]\n",
    ")\n",
    "\n",
    "# Display the top N features contributing to each principal component (e.g., top 5)\n",
    "num_top_features = 6\n",
    "for pc in feature_contributions.index:\n",
    "    top_features = feature_contributions.loc[pc].abs().sort_values(ascending=False).head(num_top_features)\n",
    "    print(f\"Top {num_top_features} Features for {pc}:\")\n",
    "    print(top_features)\n",
    "    print()"
   ]
  },
  {
   "cell_type": "markdown",
   "metadata": {},
   "source": [
    "### PCA; Codes from a paper\n",
    "\n",
    "https://nextjournal.com/pc-methods/calculate-pc-mixed-data"
   ]
  },
  {
   "cell_type": "code",
   "execution_count": 54,
   "metadata": {},
   "outputs": [],
   "source": [
    "# Importing modules \n",
    "import pandas as pd \n",
    "import prince \n",
    "import pprint "
   ]
  },
  {
   "cell_type": "code",
   "execution_count": 55,
   "metadata": {},
   "outputs": [],
   "source": [
    "#importing datasets\n",
    "train_df_pca = pd.read_csv(\"customer_churn_dataset-training-master.csv\")\n",
    "test_df_pca = pd.read_csv(\"customer_churn_dataset-testing-master.csv\")"
   ]
  },
  {
   "cell_type": "code",
   "execution_count": 58,
   "metadata": {},
   "outputs": [],
   "source": [
    "train_df_pca.dropna(inplace=True)"
   ]
  },
  {
   "cell_type": "code",
   "execution_count": 61,
   "metadata": {},
   "outputs": [],
   "source": [
    "## Instantiate FAMD object\n",
    "famd = prince.FAMD(\n",
    "     n_components=25,\n",
    "     n_iter=10,\n",
    "     copy=True,\n",
    "     check_input=True,\n",
    "     engine='sklearn',       ## Can be \"auto\", 'sklearn', 'fbpca'\n",
    "     random_state=42)"
   ]
  },
  {
   "cell_type": "code",
   "execution_count": 62,
   "metadata": {},
   "outputs": [],
   "source": [
    "## Fit FAMD object to data \n",
    "famd = famd.fit(train_df_pca.drop('Churn', axis=1)) ## Exclude target variable \"Churn\""
   ]
  },
  {
   "cell_type": "code",
   "execution_count": 69,
   "metadata": {},
   "outputs": [
    {
     "name": "stdout",
     "output_type": "stream",
     "text": [
      "Component 1: Explained Variance = 0.1555\n",
      "Component 2: Explained Variance = 0.0979\n",
      "Component 3: Explained Variance = 0.0970\n",
      "Component 4: Explained Variance = 0.0967\n",
      "Component 5: Explained Variance = 0.0965\n",
      "Component 6: Explained Variance = 0.0727\n",
      "Component 7: Explained Variance = 0.0662\n",
      "Component 8: Explained Variance = 0.0624\n",
      "Component 9: Explained Variance = 0.0611\n",
      "Component 10: Explained Variance = 0.0588\n",
      "Component 11: Explained Variance = 0.0566\n",
      "Component 12: Explained Variance = 0.0492\n",
      "Component 13: Explained Variance = 0.0294\n",
      "Component 14: Explained Variance = 0.0000\n",
      "Component 15: Explained Variance = 0.0000\n",
      "Component 16: Explained Variance = 0.0000\n"
     ]
    }
   ],
   "source": [
    "# Calculate explained variance for each component\n",
    "explained_variance = famd.eigenvalues_ / famd.eigenvalues_.sum()\n",
    "for i, variance in enumerate(explained_variance):\n",
    "    print(f\"Component {i + 1}: Explained Variance = {variance:.4f}\")"
   ]
  },
  {
   "cell_type": "code",
   "execution_count": 70,
   "metadata": {},
   "outputs": [
    {
     "data": {
      "image/png": "[encoded data removed]",
      "text/plain": [
       "<Figure size 800x400 with 1 Axes>"
      ]
     },
     "metadata": {},
     "output_type": "display_data"
    }
   ],
   "source": [
    "import matplotlib.pyplot as plt\n",
    "\n",
    "# Calculate explained variance for each component\n",
    "explained_variance = famd.eigenvalues_ / famd.eigenvalues_.sum()\n",
    "\n",
    "# Create a Scree Plot\n",
    "plt.figure(figsize=(8, 4))\n",
    "plt.bar(range(1, len(explained_variance) + 1), explained_variance, alpha=0.5, align='center')\n",
    "plt.xlabel('Principal Components')\n",
    "plt.ylabel('Explained Variance')\n",
    "plt.title('Scree Plot')\n",
    "plt.show()"
   ]
  },
  {
   "cell_type": "markdown",
   "metadata": {},
   "source": [
    "### PCA"
   ]
  },
  {
   "cell_type": "markdown",
   "metadata": {},
   "source": [
    "I should normalize the data "
   ]
  },
  {
   "cell_type": "code",
   "execution_count": 19,
   "metadata": {},
   "outputs": [],
   "source": [
    "# Importing modules \n",
    "import pandas as pd\n",
    "import matplotlib.pyplot as plt\n",
    "from sklearn.preprocessing import StandardScaler, OneHotEncoder\n",
    "from sklearn.compose import ColumnTransformer\n",
    "from sklearn.pipeline import Pipeline\n",
    "from sklearn.decomposition import PCA"
   ]
  },
  {
   "cell_type": "code",
   "execution_count": 20,
   "metadata": {},
   "outputs": [],
   "source": [
    "#importing datasets\n",
    "train_df_pca = pd.read_csv(\"customer_churn_dataset-training-master.csv\")\n",
    "test_df_pca = pd.read_csv(\"customer_churn_dataset-testing-master.csv\")"
   ]
  },
  {
   "cell_type": "code",
   "execution_count": 23,
   "metadata": {},
   "outputs": [],
   "source": [
    "train_df_pca.dropna(inplace=True)"
   ]
  },
  {
   "cell_type": "code",
   "execution_count": 24,
   "metadata": {},
   "outputs": [],
   "source": [
    "# Defining the categorical and numerical variables\n",
    "num = ['Age', 'Tenure', 'Usage Frequency', 'Support Calls', 'Payment Delay', 'Total Spend', 'Last Interaction']\n",
    "cat = ['Gender', 'Subscription Type', 'Contract Length']"
   ]
  },
  {
   "cell_type": "code",
   "execution_count": 25,
   "metadata": {},
   "outputs": [],
   "source": [
    "# Creating transformers for numerical and categorical features\n",
    "numeric_tf = Pipeline(steps=[\n",
    "    ('scaler', StandardScaler())  # Standardize numerical features\n",
    "])\n",
    "\n",
    "categorical_tf = Pipeline(steps=[\n",
    "    ('onehot', OneHotEncoder(drop='first'))  # One-hot encode categorical features\n",
    "])\n",
    "\n",
    "# Combinding the transformers\n",
    "preprocessor = ColumnTransformer(\n",
    "    transformers=[\n",
    "        ('num', numeric_tf, num),\n",
    "        ('cat', categorical_tf, cat)\n",
    "    ])"
   ]
  },
  {
   "cell_type": "code",
   "execution_count": 26,
   "metadata": {},
   "outputs": [],
   "source": [
    "# Preporcessing and transforming the data \n",
    "X_train_pca = preprocessor.fit_transform(train_df_pca.drop(columns=['CustomerID', 'Churn']))\n",
    "X_test_pca = preprocessor.transform(test_df_pca.drop(columns=['CustomerID', 'Churn']))"
   ]
  },
  {
   "cell_type": "code",
   "execution_count": 49,
   "metadata": {},
   "outputs": [],
   "source": [
    "# Perform PCA\n",
    "n_components =5  # You can adjust this based on your needs\n",
    "\n",
    "pca = PCA(n_components=n_components)\n",
    "pca.fit(X_train_pca)\n",
    "\n",
    "train_pca = pca.transform(X_train_pca)\n",
    "test_pca = pca.transform(X_test_pca)"
   ]
  },
  {
   "cell_type": "code",
   "execution_count": 50,
   "metadata": {},
   "outputs": [
    {
     "name": "stdout",
     "output_type": "stream",
     "text": [
      "Explained Variance Ratios: [0.18155302 0.12690841 0.12183684 0.11974434 0.11635072]\n"
     ]
    }
   ],
   "source": [
    "# Explained Variance\n",
    "explained_variance = pca.explained_variance_ratio_\n",
    "print(\"Explained Variance Ratios:\", explained_variance)"
   ]
  },
  {
   "cell_type": "code",
   "execution_count": 51,
   "metadata": {},
   "outputs": [
    {
     "data": {
      "image/png": "[encoded data removed]",
      "text/plain": [
       "<Figure size 800x400 with 1 Axes>"
      ]
     },
     "metadata": {},
     "output_type": "display_data"
    },
    {
     "data": {
      "image/png": "[encoded data removed]",
      "text/plain": [
       "<Figure size 800x400 with 1 Axes>"
      ]
     },
     "metadata": {},
     "output_type": "display_data"
    },
    {
     "data": {
      "image/png": "[encoded data removed]",
      "text/plain": [
       "<Figure size 1200x600 with 2 Axes>"
      ]
     },
     "metadata": {},
     "output_type": "display_data"
    }
   ],
   "source": [
    "# Visualizations\n",
    "plt.figure(figsize=(8, 4))\n",
    "plt.bar(range(1, len(explained_variance) + 1), explained_variance, alpha=0.5, align='center')\n",
    "plt.xlabel('Principal Components')\n",
    "plt.ylabel('Explained Variance')\n",
    "plt.title('Scree Plot')\n",
    "plt.show()\n",
    "\n",
    "cumulative_variance = explained_variance.cumsum()\n",
    "\n",
    "plt.figure(figsize=(8, 4))\n",
    "plt.plot(range(1, len(cumulative_variance) + 1), cumulative_variance, marker='o', linestyle='-')\n",
    "plt.xlabel('Number of Principal Components')\n",
    "plt.ylabel('Cumulative Explained Variance')\n",
    "plt.title('Cumulative Explained Variance Plot')\n",
    "plt.grid()\n",
    "plt.show()\n",
    "\n",
    "# Manually get feature names for one-hot encoded categorical columns\n",
    "categorical_encoder = preprocessor.named_transformers_['cat']['onehot']\n",
    "cat_feature_names = categorical_encoder.get_feature_names_out(input_features=cat)\n",
    "all_feature_names = num + list(cat_feature_names)\n",
    "\n",
    "# Create DataFrame for component loadings\n",
    "components_df = pd.DataFrame(pca.components_, columns=all_feature_names)\n",
    "plt.figure(figsize=(12, 6))\n",
    "plt.imshow(components_df, cmap='viridis', aspect='auto')\n",
    "plt.colorbar()\n",
    "plt.xticks(range(len(components_df.columns)), components_df.columns, rotation=90)\n",
    "plt.yticks(range(len(components_df.index)), range(1, len(components_df.index) + 1))\n",
    "plt.title('Principal Component Loadings')\n",
    "plt.show()"
   ]
  },
  {
   "cell_type": "markdown",
   "metadata": {},
   "source": [
    "### Logistic Regression "
   ]
  },
  {
   "cell_type": "code",
   "execution_count": 2,
   "metadata": {},
   "outputs": [],
   "source": [
    "#import necessary libraries\n",
    "import numpy as np\n",
    "import pandas as pd\n",
    "import matplotlib.pyplot as plt\n",
    "import seaborn as sns\n",
    "from sklearn.linear_model import LogisticRegression\n",
    "from sklearn.preprocessing import StandardScaler, OneHotEncoder\n",
    "from sklearn.compose import ColumnTransformer\n",
    "from sklearn.pipeline import Pipeline\n",
    "from sklearn.metrics import accuracy_score, classification_report, confusion_matrix\n"
   ]
  },
  {
   "cell_type": "code",
   "execution_count": 72,
   "metadata": {},
   "outputs": [],
   "source": [
    "# Evaluation function that prints classification report and confusion matrix\n",
    "def evaluate(y_test, y_pred, model_name):\n",
    "    # Creating the confusion matrix\n",
    "    cm = confusion_matrix(y_test, y_pred)\n",
    "\n",
    "    # Priting the model name\n",
    "    print(f\"\\033[34m{model_name}\\033[0m\")\n",
    "\n",
    "    # Print the classification report\n",
    "    print(f\" \\033[32mClassification Report:\\033[0m\")\n",
    "    print(classification_report(y_test, y_pred))\n",
    "    print(f\" \\033[32mConfusion Matrix:\\033[0m\")\n",
    "    \n",
    "    # Print the confusion matrix\n",
    "    sns.heatmap(cm, annot=True, cmap='Blues', fmt='g')\n",
    "    plt.title(f'{model_name}: Confusion Matrix')\n",
    "    plt.xlabel('Predicted Labels')\n",
    "    plt.ylabel('True Labels')\n",
    "    plt.show()"
   ]
  },
  {
   "cell_type": "code",
   "execution_count": 3,
   "metadata": {},
   "outputs": [],
   "source": [
    "#importing datasets\n",
    "train_df = pd.read_csv(\"customer_churn_dataset-training-master.csv\")\n",
    "test_df = pd.read_csv(\"customer_churn_dataset-testing-master.csv\")"
   ]
  },
  {
   "cell_type": "code",
   "execution_count": 4,
   "metadata": {},
   "outputs": [
    {
     "data": {
      "text/html": [
       "<div>\n",
       "<style scoped>\n",
       "    .dataframe tbody tr th:only-of-type {\n",
       "        vertical-align: middle;\n",
       "    }\n",
       "\n",
       "    .dataframe tbody tr th {\n",
       "        vertical-align: top;\n",
       "    }\n",
       "\n",
       "    .dataframe thead th {\n",
       "        text-align: right;\n",
       "    }\n",
       "</style>\n",
       "<table border=\"1\" class=\"dataframe\">\n",
       "  <thead>\n",
       "    <tr style=\"text-align: right;\">\n",
       "      <th></th>\n",
       "      <th>CustomerID</th>\n",
       "      <th>Age</th>\n",
       "      <th>Gender</th>\n",
       "      <th>Tenure</th>\n",
       "      <th>Usage Frequency</th>\n",
       "      <th>Support Calls</th>\n",
       "      <th>Payment Delay</th>\n",
       "      <th>Subscription Type</th>\n",
       "      <th>Contract Length</th>\n",
       "      <th>Total Spend</th>\n",
       "      <th>Last Interaction</th>\n",
       "      <th>Churn</th>\n",
       "    </tr>\n",
       "  </thead>\n",
       "  <tbody>\n",
       "    <tr>\n",
       "      <th>0</th>\n",
       "      <td>2.0</td>\n",
       "      <td>30.0</td>\n",
       "      <td>Female</td>\n",
       "      <td>39.0</td>\n",
       "      <td>14.0</td>\n",
       "      <td>5.0</td>\n",
       "      <td>18.0</td>\n",
       "      <td>Standard</td>\n",
       "      <td>Annual</td>\n",
       "      <td>932.0</td>\n",
       "      <td>17.0</td>\n",
       "      <td>1.0</td>\n",
       "    </tr>\n",
       "    <tr>\n",
       "      <th>1</th>\n",
       "      <td>3.0</td>\n",
       "      <td>65.0</td>\n",
       "      <td>Female</td>\n",
       "      <td>49.0</td>\n",
       "      <td>1.0</td>\n",
       "      <td>10.0</td>\n",
       "      <td>8.0</td>\n",
       "      <td>Basic</td>\n",
       "      <td>Monthly</td>\n",
       "      <td>557.0</td>\n",
       "      <td>6.0</td>\n",
       "      <td>1.0</td>\n",
       "    </tr>\n",
       "    <tr>\n",
       "      <th>2</th>\n",
       "      <td>4.0</td>\n",
       "      <td>55.0</td>\n",
       "      <td>Female</td>\n",
       "      <td>14.0</td>\n",
       "      <td>4.0</td>\n",
       "      <td>6.0</td>\n",
       "      <td>18.0</td>\n",
       "      <td>Basic</td>\n",
       "      <td>Quarterly</td>\n",
       "      <td>185.0</td>\n",
       "      <td>3.0</td>\n",
       "      <td>1.0</td>\n",
       "    </tr>\n",
       "    <tr>\n",
       "      <th>3</th>\n",
       "      <td>5.0</td>\n",
       "      <td>58.0</td>\n",
       "      <td>Male</td>\n",
       "      <td>38.0</td>\n",
       "      <td>21.0</td>\n",
       "      <td>7.0</td>\n",
       "      <td>7.0</td>\n",
       "      <td>Standard</td>\n",
       "      <td>Monthly</td>\n",
       "      <td>396.0</td>\n",
       "      <td>29.0</td>\n",
       "      <td>1.0</td>\n",
       "    </tr>\n",
       "    <tr>\n",
       "      <th>4</th>\n",
       "      <td>6.0</td>\n",
       "      <td>23.0</td>\n",
       "      <td>Male</td>\n",
       "      <td>32.0</td>\n",
       "      <td>20.0</td>\n",
       "      <td>5.0</td>\n",
       "      <td>8.0</td>\n",
       "      <td>Basic</td>\n",
       "      <td>Monthly</td>\n",
       "      <td>617.0</td>\n",
       "      <td>20.0</td>\n",
       "      <td>1.0</td>\n",
       "    </tr>\n",
       "  </tbody>\n",
       "</table>\n",
       "</div>"
      ],
      "text/plain": [
       "   CustomerID   Age  Gender  Tenure  Usage Frequency  Support Calls  \\\n",
       "0         2.0  30.0  Female    39.0             14.0            5.0   \n",
       "1         3.0  65.0  Female    49.0              1.0           10.0   \n",
       "2         4.0  55.0  Female    14.0              4.0            6.0   \n",
       "3         5.0  58.0    Male    38.0             21.0            7.0   \n",
       "4         6.0  23.0    Male    32.0             20.0            5.0   \n",
       "\n",
       "   Payment Delay Subscription Type Contract Length  Total Spend  \\\n",
       "0           18.0          Standard          Annual        932.0   \n",
       "1            8.0             Basic         Monthly        557.0   \n",
       "2           18.0             Basic       Quarterly        185.0   \n",
       "3            7.0          Standard         Monthly        396.0   \n",
       "4            8.0             Basic         Monthly        617.0   \n",
       "\n",
       "   Last Interaction  Churn  \n",
       "0              17.0    1.0  \n",
       "1               6.0    1.0  \n",
       "2               3.0    1.0  \n",
       "3              29.0    1.0  \n",
       "4              20.0    1.0  "
      ]
     },
     "execution_count": 4,
     "metadata": {},
     "output_type": "execute_result"
    }
   ],
   "source": [
    "# Inspecting the data \n",
    "train_df.head()"
   ]
  },
  {
   "cell_type": "code",
   "execution_count": 5,
   "metadata": {},
   "outputs": [
    {
     "data": {
      "text/html": [
       "<div>\n",
       "<style scoped>\n",
       "    .dataframe tbody tr th:only-of-type {\n",
       "        vertical-align: middle;\n",
       "    }\n",
       "\n",
       "    .dataframe tbody tr th {\n",
       "        vertical-align: top;\n",
       "    }\n",
       "\n",
       "    .dataframe thead th {\n",
       "        text-align: right;\n",
       "    }\n",
       "</style>\n",
       "<table border=\"1\" class=\"dataframe\">\n",
       "  <thead>\n",
       "    <tr style=\"text-align: right;\">\n",
       "      <th></th>\n",
       "      <th>CustomerID</th>\n",
       "      <th>Age</th>\n",
       "      <th>Gender</th>\n",
       "      <th>Tenure</th>\n",
       "      <th>Usage Frequency</th>\n",
       "      <th>Support Calls</th>\n",
       "      <th>Payment Delay</th>\n",
       "      <th>Subscription Type</th>\n",
       "      <th>Contract Length</th>\n",
       "      <th>Total Spend</th>\n",
       "      <th>Last Interaction</th>\n",
       "      <th>Churn</th>\n",
       "    </tr>\n",
       "  </thead>\n",
       "  <tbody>\n",
       "    <tr>\n",
       "      <th>0</th>\n",
       "      <td>1</td>\n",
       "      <td>22</td>\n",
       "      <td>Female</td>\n",
       "      <td>25</td>\n",
       "      <td>14</td>\n",
       "      <td>4</td>\n",
       "      <td>27</td>\n",
       "      <td>Basic</td>\n",
       "      <td>Monthly</td>\n",
       "      <td>598</td>\n",
       "      <td>9</td>\n",
       "      <td>1</td>\n",
       "    </tr>\n",
       "    <tr>\n",
       "      <th>1</th>\n",
       "      <td>2</td>\n",
       "      <td>41</td>\n",
       "      <td>Female</td>\n",
       "      <td>28</td>\n",
       "      <td>28</td>\n",
       "      <td>7</td>\n",
       "      <td>13</td>\n",
       "      <td>Standard</td>\n",
       "      <td>Monthly</td>\n",
       "      <td>584</td>\n",
       "      <td>20</td>\n",
       "      <td>0</td>\n",
       "    </tr>\n",
       "    <tr>\n",
       "      <th>2</th>\n",
       "      <td>3</td>\n",
       "      <td>47</td>\n",
       "      <td>Male</td>\n",
       "      <td>27</td>\n",
       "      <td>10</td>\n",
       "      <td>2</td>\n",
       "      <td>29</td>\n",
       "      <td>Premium</td>\n",
       "      <td>Annual</td>\n",
       "      <td>757</td>\n",
       "      <td>21</td>\n",
       "      <td>0</td>\n",
       "    </tr>\n",
       "    <tr>\n",
       "      <th>3</th>\n",
       "      <td>4</td>\n",
       "      <td>35</td>\n",
       "      <td>Male</td>\n",
       "      <td>9</td>\n",
       "      <td>12</td>\n",
       "      <td>5</td>\n",
       "      <td>17</td>\n",
       "      <td>Premium</td>\n",
       "      <td>Quarterly</td>\n",
       "      <td>232</td>\n",
       "      <td>18</td>\n",
       "      <td>0</td>\n",
       "    </tr>\n",
       "    <tr>\n",
       "      <th>4</th>\n",
       "      <td>5</td>\n",
       "      <td>53</td>\n",
       "      <td>Female</td>\n",
       "      <td>58</td>\n",
       "      <td>24</td>\n",
       "      <td>9</td>\n",
       "      <td>2</td>\n",
       "      <td>Standard</td>\n",
       "      <td>Annual</td>\n",
       "      <td>533</td>\n",
       "      <td>18</td>\n",
       "      <td>0</td>\n",
       "    </tr>\n",
       "  </tbody>\n",
       "</table>\n",
       "</div>"
      ],
      "text/plain": [
       "   CustomerID  Age  Gender  Tenure  Usage Frequency  Support Calls  \\\n",
       "0           1   22  Female      25               14              4   \n",
       "1           2   41  Female      28               28              7   \n",
       "2           3   47    Male      27               10              2   \n",
       "3           4   35    Male       9               12              5   \n",
       "4           5   53  Female      58               24              9   \n",
       "\n",
       "   Payment Delay Subscription Type Contract Length  Total Spend  \\\n",
       "0             27             Basic         Monthly          598   \n",
       "1             13          Standard         Monthly          584   \n",
       "2             29           Premium          Annual          757   \n",
       "3             17           Premium       Quarterly          232   \n",
       "4              2          Standard          Annual          533   \n",
       "\n",
       "   Last Interaction  Churn  \n",
       "0                 9      1  \n",
       "1                20      0  \n",
       "2                21      0  \n",
       "3                18      0  \n",
       "4                18      0  "
      ]
     },
     "execution_count": 5,
     "metadata": {},
     "output_type": "execute_result"
    }
   ],
   "source": [
    "test_df.head()"
   ]
  },
  {
   "cell_type": "code",
   "execution_count": 6,
   "metadata": {},
   "outputs": [
    {
     "name": "stdout",
     "output_type": "stream",
     "text": [
      "Unique values in Gender column: ['Female' 'Male' nan]\n",
      "Unique values in Subscription Type column: ['Standard' 'Basic' 'Premium' nan]\n",
      "Unique values in Contract Length column: ['Annual' 'Monthly' 'Quarterly' nan]\n"
     ]
    }
   ],
   "source": [
    "#figure out how many different values are in the columns with string datatype\n",
    "\n",
    "unique_gender = train_df[\"Gender\"].unique()\n",
    "\n",
    "print(\"Unique values in Gender column:\", unique_gender)\n",
    "\n",
    "unique_subtype = train_df[\"Subscription Type\"].unique()\n",
    "\n",
    "print(\"Unique values in Subscription Type column:\", unique_subtype)\n",
    "\n",
    "unique_contractLenght = train_df[\"Contract Length\"].unique()\n",
    "\n",
    "print(\"Unique values in Contract Length column:\", unique_contractLenght)"
   ]
  },
  {
   "cell_type": "code",
   "execution_count": 7,
   "metadata": {},
   "outputs": [
    {
     "name": "stdout",
     "output_type": "stream",
     "text": [
      "CustomerID           1\n",
      "Age                  1\n",
      "Gender               1\n",
      "Tenure               1\n",
      "Usage Frequency      1\n",
      "Support Calls        1\n",
      "Payment Delay        1\n",
      "Subscription Type    1\n",
      "Contract Length      1\n",
      "Total Spend          1\n",
      "Last Interaction     1\n",
      "Churn                1\n",
      "dtype: int64\n",
      "CustomerID           0\n",
      "Age                  0\n",
      "Gender               0\n",
      "Tenure               0\n",
      "Usage Frequency      0\n",
      "Support Calls        0\n",
      "Payment Delay        0\n",
      "Subscription Type    0\n",
      "Contract Length      0\n",
      "Total Spend          0\n",
      "Last Interaction     0\n",
      "Churn                0\n",
      "dtype: int64\n"
     ]
    }
   ],
   "source": [
    "# Seeing how many missing values there are\n",
    "print(train_df.isna().sum())\n",
    "print(test_df.isna().sum())"
   ]
  },
  {
   "cell_type": "code",
   "execution_count": 8,
   "metadata": {},
   "outputs": [],
   "source": [
    "# Since there are only one missing value, it is feasible to drop this \n",
    "train_df.dropna(inplace=True)"
   ]
  },
  {
   "cell_type": "code",
   "execution_count": 9,
   "metadata": {},
   "outputs": [],
   "source": [
    "# Defining the categorical and numerical variables\n",
    "num = ['Age', 'Tenure', 'Usage Frequency', 'Support Calls', 'Payment Delay', 'Total Spend', 'Last Interaction']\n",
    "cat = ['Gender', 'Subscription Type', 'Contract Length']"
   ]
  },
  {
   "cell_type": "code",
   "execution_count": 10,
   "metadata": {},
   "outputs": [],
   "source": [
    "# Creating transformers for numerical and categorical features\n",
    "numeric_tf = Pipeline(steps=[\n",
    "    ('scaler', StandardScaler())  # Standardize numerical features\n",
    "])\n",
    "\n",
    "categorical_tf = Pipeline(steps=[\n",
    "    ('onehot', OneHotEncoder(drop='first'))  # One-hot encode categorical features\n",
    "])\n",
    "\n",
    "# Combinding the transformers\n",
    "preprocessor = ColumnTransformer(\n",
    "    transformers=[\n",
    "        ('num', numeric_tf, num),\n",
    "        ('cat', categorical_tf, cat)\n",
    "    ])"
   ]
  },
  {
   "cell_type": "code",
   "execution_count": 11,
   "metadata": {},
   "outputs": [],
   "source": [
    "# Apply the preprocessing to train and test data\n",
    "X_train = preprocessor.fit_transform(train_df.drop(columns=['CustomerID', 'Churn']))\n",
    "y_train = train_df['Churn']\n",
    "X_test = preprocessor.transform(test_df.drop(columns=['CustomerID', 'Churn']))\n",
    "y_test = test_df['Churn']"
   ]
  },
  {
   "cell_type": "code",
   "execution_count": 12,
   "metadata": {},
   "outputs": [
    {
     "data": {
      "text/html": [
       "<style>#sk-container-id-1 {color: black;background-color: white;}#sk-container-id-1 pre{padding: 0;}#sk-container-id-1 div.sk-toggleable {background-color: white;}#sk-container-id-1 label.sk-toggleable__label {cursor: pointer;display: block;width: 100%;margin-bottom: 0;padding: 0.3em;box-sizing: border-box;text-align: center;}#sk-container-id-1 label.sk-toggleable__label-arrow:before {content: \"▸\";float: left;margin-right: 0.25em;color: #696969;}#sk-container-id-1 label.sk-toggleable__label-arrow:hover:before {color: black;}#sk-container-id-1 div.sk-estimator:hover label.sk-toggleable__label-arrow:before {color: black;}#sk-container-id-1 div.sk-toggleable__content {max-height: 0;max-width: 0;overflow: hidden;text-align: left;background-color: #f0f8ff;}#sk-container-id-1 div.sk-toggleable__content pre {margin: 0.2em;color: black;border-radius: 0.25em;background-color: #f0f8ff;}#sk-container-id-1 input.sk-toggleable__control:checked~div.sk-toggleable__content {max-height: 200px;max-width: 100%;overflow: auto;}#sk-container-id-1 input.sk-toggleable__control:checked~label.sk-toggleable__label-arrow:before {content: \"▾\";}#sk-container-id-1 div.sk-estimator input.sk-toggleable__control:checked~label.sk-toggleable__label {background-color: #d4ebff;}#sk-container-id-1 div.sk-label input.sk-toggleable__control:checked~label.sk-toggleable__label {background-color: #d4ebff;}#sk-container-id-1 input.sk-hidden--visually {border: 0;clip: rect(1px 1px 1px 1px);clip: rect(1px, 1px, 1px, 1px);height: 1px;margin: -1px;overflow: hidden;padding: 0;position: absolute;width: 1px;}#sk-container-id-1 div.sk-estimator {font-family: monospace;background-color: #f0f8ff;border: 1px dotted black;border-radius: 0.25em;box-sizing: border-box;margin-bottom: 0.5em;}#sk-container-id-1 div.sk-estimator:hover {background-color: #d4ebff;}#sk-container-id-1 div.sk-parallel-item::after {content: \"\";width: 100%;border-bottom: 1px solid gray;flex-grow: 1;}#sk-container-id-1 div.sk-label:hover label.sk-toggleable__label {background-color: #d4ebff;}#sk-container-id-1 div.sk-serial::before {content: \"\";position: absolute;border-left: 1px solid gray;box-sizing: border-box;top: 0;bottom: 0;left: 50%;z-index: 0;}#sk-container-id-1 div.sk-serial {display: flex;flex-direction: column;align-items: center;background-color: white;padding-right: 0.2em;padding-left: 0.2em;position: relative;}#sk-container-id-1 div.sk-item {position: relative;z-index: 1;}#sk-container-id-1 div.sk-parallel {display: flex;align-items: stretch;justify-content: center;background-color: white;position: relative;}#sk-container-id-1 div.sk-item::before, #sk-container-id-1 div.sk-parallel-item::before {content: \"\";position: absolute;border-left: 1px solid gray;box-sizing: border-box;top: 0;bottom: 0;left: 50%;z-index: -1;}#sk-container-id-1 div.sk-parallel-item {display: flex;flex-direction: column;z-index: 1;position: relative;background-color: white;}#sk-container-id-1 div.sk-parallel-item:first-child::after {align-self: flex-end;width: 50%;}#sk-container-id-1 div.sk-parallel-item:last-child::after {align-self: flex-start;width: 50%;}#sk-container-id-1 div.sk-parallel-item:only-child::after {width: 0;}#sk-container-id-1 div.sk-dashed-wrapped {border: 1px dashed gray;margin: 0 0.4em 0.5em 0.4em;box-sizing: border-box;padding-bottom: 0.4em;background-color: white;}#sk-container-id-1 div.sk-label label {font-family: monospace;font-weight: bold;display: inline-block;line-height: 1.2em;}#sk-container-id-1 div.sk-label-container {text-align: center;}#sk-container-id-1 div.sk-container {/* jupyter's `normalize.less` sets `[hidden] { display: none; }` but bootstrap.min.css set `[hidden] { display: none !important; }` so we also need the `!important` here to be able to override the default hidden behavior on the sphinx rendered scikit-learn.org. See: https://github.com/scikit-learn/scikit-learn/issues/21755 */display: inline-block !important;position: relative;}#sk-container-id-1 div.sk-text-repr-fallback {display: none;}</style><div id=\"sk-container-id-1\" class=\"sk-top-container\"><div class=\"sk-text-repr-fallback\"><pre>LogisticRegression(max_iter=1000000, random_state=9)</pre><b>In a Jupyter environment, please rerun this cell to show the HTML representation or trust the notebook. <br />On GitHub, the HTML representation is unable to render, please try loading this page with nbviewer.org.</b></div><div class=\"sk-container\" hidden><div class=\"sk-item\"><div class=\"sk-estimator sk-toggleable\"><input class=\"sk-toggleable__control sk-hidden--visually\" id=\"sk-estimator-id-1\" type=\"checkbox\" checked><label for=\"sk-estimator-id-1\" class=\"sk-toggleable__label sk-toggleable__label-arrow\">LogisticRegression</label><div class=\"sk-toggleable__content\"><pre>LogisticRegression(max_iter=1000000, random_state=9)</pre></div></div></div></div></div>"
      ],
      "text/plain": [
       "LogisticRegression(max_iter=1000000, random_state=9)"
      ]
     },
     "execution_count": 12,
     "metadata": {},
     "output_type": "execute_result"
    }
   ],
   "source": [
    "# Initialising Logistic Regression \n",
    "lr = LogisticRegression(max_iter=1000000, random_state=9)\n",
    "lr.fit(X_train, y_train)"
   ]
  },
  {
   "cell_type": "code",
   "execution_count": 17,
   "metadata": {},
   "outputs": [
    {
     "name": "stdout",
     "output_type": "stream",
     "text": [
      "\u001b[34mLogisticRegression(max_iter=1000000, random_state=9)\u001b[0m\n",
      " \u001b[32mClassification Report:\u001b[0m\n",
      "              precision    recall  f1-score   support\n",
      "\n",
      "           0       0.96      0.19      0.32     33881\n",
      "           1       0.53      0.99      0.69     30493\n",
      "\n",
      "    accuracy                           0.57     64374\n",
      "   macro avg       0.74      0.59      0.50     64374\n",
      "weighted avg       0.75      0.57      0.49     64374\n",
      "\n",
      " \u001b[32mConfusion Matrix:\u001b[0m\n"
     ]
    },
    {
     "data": {
      "image/png": "[encoded data removed]",
      "text/plain": [
       "<Figure size 640x480 with 2 Axes>"
      ]
     },
     "metadata": {},
     "output_type": "display_data"
    }
   ],
   "source": [
    "# Evaluating the results \n",
    "evaluate(y_test, y_pred, lr)"
   ]
  }
 ],
 "metadata": {
  "kernelspec": {
   "display_name": "Python 3",
   "language": "python",
   "name": "python3"
  },
  "language_info": {
   "codemirror_mode": {
    "name": "ipython",
    "version": 3
   },
   "file_extension": ".py",
   "mimetype": "text/x-python",
   "name": "python",
   "nbconvert_exporter": "python",
   "pygments_lexer": "ipython3",
   "version": "3.10.11"
  },
  "orig_nbformat": 4
 },
 "nbformat": 4,
 "nbformat_minor": 2
}
