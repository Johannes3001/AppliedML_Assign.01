{
 "cells": [
  {
   "cell_type": "markdown",
   "metadata": {},
   "source": [
    "### Johannes Best codes in the world "
   ]
  },
  {
   "cell_type": "code",
   "execution_count": 1,
   "metadata": {},
   "outputs": [],
   "source": [
    "#import libraries\n",
    "import numpy as np\n",
    "import pandas as pd"
   ]
  },
  {
   "cell_type": "code",
   "execution_count": 7,
   "metadata": {},
   "outputs": [],
   "source": [
    "#import data\n",
    "features_df = pd.read_csv(\"C:/Users/johan/OneDrive/Copenhagen/CBS/3rd Semester/Applied ML/Assignment/AppliedML_Assignment/Assignment2/Data/Features data set.csv\")\n",
    "sales_df = pd.read_csv(\"C:/Users/johan/OneDrive/Copenhagen/CBS/3rd Semester/Applied ML/Assignment/AppliedML_Assignment/Assignment2/Data/sales data-set.csv\")\n",
    "store_df = pd.read_csv(\"C:/Users/johan/OneDrive/Copenhagen/CBS/3rd Semester/Applied ML/Assignment/AppliedML_Assignment/Assignment2/Data/stores data-set.csv\")"
   ]
  },
  {
   "cell_type": "code",
   "execution_count": 8,
   "metadata": {},
   "outputs": [
    {
     "data": {
      "text/html": [
       "<div>\n",
       "<style scoped>\n",
       "    .dataframe tbody tr th:only-of-type {\n",
       "        vertical-align: middle;\n",
       "    }\n",
       "\n",
       "    .dataframe tbody tr th {\n",
       "        vertical-align: top;\n",
       "    }\n",
       "\n",
       "    .dataframe thead th {\n",
       "        text-align: right;\n",
       "    }\n",
       "</style>\n",
       "<table border=\"1\" class=\"dataframe\">\n",
       "  <thead>\n",
       "    <tr style=\"text-align: right;\">\n",
       "      <th></th>\n",
       "      <th>Store</th>\n",
       "      <th>Date</th>\n",
       "      <th>Temperature</th>\n",
       "      <th>Fuel_Price</th>\n",
       "      <th>MarkDown1</th>\n",
       "      <th>MarkDown2</th>\n",
       "      <th>MarkDown3</th>\n",
       "      <th>MarkDown4</th>\n",
       "      <th>MarkDown5</th>\n",
       "      <th>CPI</th>\n",
       "      <th>Unemployment</th>\n",
       "      <th>IsHoliday</th>\n",
       "    </tr>\n",
       "  </thead>\n",
       "  <tbody>\n",
       "    <tr>\n",
       "      <th>0</th>\n",
       "      <td>1</td>\n",
       "      <td>05/02/2010</td>\n",
       "      <td>42.31</td>\n",
       "      <td>2.572</td>\n",
       "      <td>NaN</td>\n",
       "      <td>NaN</td>\n",
       "      <td>NaN</td>\n",
       "      <td>NaN</td>\n",
       "      <td>NaN</td>\n",
       "      <td>211.096358</td>\n",
       "      <td>8.106</td>\n",
       "      <td>False</td>\n",
       "    </tr>\n",
       "    <tr>\n",
       "      <th>1</th>\n",
       "      <td>1</td>\n",
       "      <td>12/02/2010</td>\n",
       "      <td>38.51</td>\n",
       "      <td>2.548</td>\n",
       "      <td>NaN</td>\n",
       "      <td>NaN</td>\n",
       "      <td>NaN</td>\n",
       "      <td>NaN</td>\n",
       "      <td>NaN</td>\n",
       "      <td>211.242170</td>\n",
       "      <td>8.106</td>\n",
       "      <td>True</td>\n",
       "    </tr>\n",
       "    <tr>\n",
       "      <th>2</th>\n",
       "      <td>1</td>\n",
       "      <td>19/02/2010</td>\n",
       "      <td>39.93</td>\n",
       "      <td>2.514</td>\n",
       "      <td>NaN</td>\n",
       "      <td>NaN</td>\n",
       "      <td>NaN</td>\n",
       "      <td>NaN</td>\n",
       "      <td>NaN</td>\n",
       "      <td>211.289143</td>\n",
       "      <td>8.106</td>\n",
       "      <td>False</td>\n",
       "    </tr>\n",
       "    <tr>\n",
       "      <th>3</th>\n",
       "      <td>1</td>\n",
       "      <td>26/02/2010</td>\n",
       "      <td>46.63</td>\n",
       "      <td>2.561</td>\n",
       "      <td>NaN</td>\n",
       "      <td>NaN</td>\n",
       "      <td>NaN</td>\n",
       "      <td>NaN</td>\n",
       "      <td>NaN</td>\n",
       "      <td>211.319643</td>\n",
       "      <td>8.106</td>\n",
       "      <td>False</td>\n",
       "    </tr>\n",
       "    <tr>\n",
       "      <th>4</th>\n",
       "      <td>1</td>\n",
       "      <td>05/03/2010</td>\n",
       "      <td>46.50</td>\n",
       "      <td>2.625</td>\n",
       "      <td>NaN</td>\n",
       "      <td>NaN</td>\n",
       "      <td>NaN</td>\n",
       "      <td>NaN</td>\n",
       "      <td>NaN</td>\n",
       "      <td>211.350143</td>\n",
       "      <td>8.106</td>\n",
       "      <td>False</td>\n",
       "    </tr>\n",
       "  </tbody>\n",
       "</table>\n",
       "</div>"
      ],
      "text/plain": [
       "   Store        Date  Temperature  Fuel_Price  MarkDown1  MarkDown2  \\\n",
       "0      1  05/02/2010        42.31       2.572        NaN        NaN   \n",
       "1      1  12/02/2010        38.51       2.548        NaN        NaN   \n",
       "2      1  19/02/2010        39.93       2.514        NaN        NaN   \n",
       "3      1  26/02/2010        46.63       2.561        NaN        NaN   \n",
       "4      1  05/03/2010        46.50       2.625        NaN        NaN   \n",
       "\n",
       "   MarkDown3  MarkDown4  MarkDown5         CPI  Unemployment  IsHoliday  \n",
       "0        NaN        NaN        NaN  211.096358         8.106      False  \n",
       "1        NaN        NaN        NaN  211.242170         8.106       True  \n",
       "2        NaN        NaN        NaN  211.289143         8.106      False  \n",
       "3        NaN        NaN        NaN  211.319643         8.106      False  \n",
       "4        NaN        NaN        NaN  211.350143         8.106      False  "
      ]
     },
     "execution_count": 8,
     "metadata": {},
     "output_type": "execute_result"
    }
   ],
   "source": [
    "features_df.head()"
   ]
  },
  {
   "cell_type": "code",
   "execution_count": 16,
   "metadata": {},
   "outputs": [
    {
     "data": {
      "text/plain": [
       "array([ 1,  2,  3,  4,  5,  6,  7,  8,  9, 10, 11, 12, 13, 14, 15, 16, 17,\n",
       "       18, 19, 20, 21, 22, 23, 24, 25, 26, 27, 28, 29, 30, 31, 32, 33, 34,\n",
       "       35, 36, 37, 38, 39, 40, 41, 42, 43, 44, 45], dtype=int64)"
      ]
     },
     "execution_count": 16,
     "metadata": {},
     "output_type": "execute_result"
    }
   ],
   "source": [
    "store_id = features_df[\"Store\"].unique()\n",
    "store_id"
   ]
  },
  {
   "cell_type": "code",
   "execution_count": 20,
   "metadata": {},
   "outputs": [
    {
     "data": {
      "text/plain": [
       "Store              0\n",
       "Date               0\n",
       "Temperature        0\n",
       "Fuel_Price         0\n",
       "MarkDown1       4158\n",
       "MarkDown2       5269\n",
       "MarkDown3       4577\n",
       "MarkDown4       4726\n",
       "MarkDown5       4140\n",
       "CPI              585\n",
       "Unemployment     585\n",
       "IsHoliday          0\n",
       "dtype: int64"
      ]
     },
     "execution_count": 20,
     "metadata": {},
     "output_type": "execute_result"
    }
   ],
   "source": [
    "features_df.isna().sum()"
   ]
  },
  {
   "cell_type": "code",
   "execution_count": 22,
   "metadata": {},
   "outputs": [
    {
     "name": "stdout",
     "output_type": "stream",
     "text": [
      "       Store  MarkDown1  MarkDown2  MarkDown3  MarkDown4  MarkDown5\n",
      "Store                                                              \n",
      "1          0         92        109         93         92         92\n",
      "2          0         92        107         93         92         92\n",
      "3          0         92        113        104         95         92\n",
      "4          0         92        107         94         94         92\n",
      "5          0         92        116        106         98         92\n",
      "6          0         92        107         94         92         92\n",
      "7          0         92        116         96         92         92\n",
      "8          0         92        109         95         94         92\n",
      "9          0         92        119        105         98         92\n",
      "10         0         92        114         96         92         92\n",
      "11         0         92        106         94         94         92\n",
      "12         0         92        110         98         92         92\n",
      "13         0         92        107         93         92         92\n",
      "14         0         92        108         94         92         92\n",
      "15         0         92        111         99         92         92\n",
      "16         0         92        117        105         94         92\n",
      "17         0         92        115        100         92         92\n",
      "18         0         92        106         96         92         92\n",
      "19         0         92        107         95         92         92\n",
      "20         0         92        103         93         92         92\n",
      "21         0         92        110         97         92         92\n",
      "22         0         92        111         99         92         92\n",
      "23         0         92        109         97         94         92\n",
      "24         0         92        107         94         92         92\n",
      "25         0         92        110         98         92         92\n",
      "26         0         92        110         96         93         92\n",
      "27         0         92        104         93         92         92\n",
      "28         0         92        108         96         92         92\n",
      "29         0         92        114         98         92         92\n",
      "30         0         94        150        116        153         92\n",
      "31         0         92        109         94         92         92\n",
      "32         0         92        105         93         92         92\n",
      "33         0         94        146        161        165         92\n",
      "34         0         92        108         96         94         92\n",
      "35         0         92        120         97         92         92\n",
      "36         0         94        148        162        158         92\n",
      "37         0         96        147        113        169         92\n",
      "38         0         92        151        112        152         92\n",
      "39         0         92        108         95         92         92\n",
      "40         0         92        112         98         94         92\n",
      "41         0         92        107         93         92         92\n",
      "42         0         97        150        113        166         92\n",
      "43         0         93        153        111        167         92\n",
      "44         0         94        155        118        162         92\n",
      "45         0         92        110         94         92         92\n"
     ]
    }
   ],
   "source": [
    "import pandas as pd\n",
    "\n",
    "# Assuming features_df is your DataFrame\n",
    "# First, filter the DataFrame to include only the relevant columns\n",
    "selected_columns = ['Store', 'MarkDown1', 'MarkDown2', 'MarkDown3','MarkDown4', 'MarkDown5' ]\n",
    "filtered_df = features_df[selected_columns]\n",
    "\n",
    "# Then, group the data by the 'store' column and count the null values in each group\n",
    "null_counts = filtered_df.groupby('Store').apply(lambda group: group.isnull().sum(axis=0))\n",
    "\n",
    "# Now, null_counts contains the count of null values in the specified columns for each store\n",
    "print(null_counts)\n"
   ]
  }
 ],
 "metadata": {
  "kernelspec": {
   "display_name": "base",
   "language": "python",
   "name": "python3"
  },
  "language_info": {
   "codemirror_mode": {
    "name": "ipython",
    "version": 3
   },
   "file_extension": ".py",
   "mimetype": "text/x-python",
   "name": "python",
   "nbconvert_exporter": "python",
   "pygments_lexer": "ipython3",
   "version": "3.10.9"
  }
 },
 "nbformat": 4,
 "nbformat_minor": 2
}
